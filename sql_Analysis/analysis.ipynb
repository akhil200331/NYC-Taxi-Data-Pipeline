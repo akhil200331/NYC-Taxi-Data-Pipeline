{
 "cells": [
  {
   "cell_type": "code",
   "execution_count": 0,
   "metadata": {
    "application/vnd.databricks.v1+cell": {
     "cellMetadata": {},
     "inputWidgets": {},
     "nuid": "12aeabb2-38f9-4183-aa71-3c7bedadad28",
     "showTitle": false,
     "tableResultSettingsMap": {},
     "title": ""
    }
   },
   "outputs": [],
   "source": []
  },
  {
   "cell_type": "code",
   "execution_count": 0,
   "metadata": {
    "application/vnd.databricks.v1+cell": {
     "cellMetadata": {
      "byteLimit": 2048000,
      "implicitDf": true,
      "rowLimit": 10000
     },
     "inputWidgets": {},
     "nuid": "ecb67387-84f3-4214-a3a8-d2c5eaefdf00",
     "showTitle": false,
     "tableResultSettingsMap": {
      "0": {
       "dataGridStateBlob": "{\"version\":1,\"tableState\":{\"columnPinning\":{\"left\":[\"#row_number#\"],\"right\":[]},\"columnSizing\":{},\"columnVisibility\":{}},\"settings\":{\"columns\":{}},\"syncTimestamp\":1759328536411}",
       "filterBlob": null,
       "queryPlanFiltersBlob": null,
       "tableResultIndex": 0
      }
     },
     "title": ""
    }
   },
   "outputs": [
    {
     "output_type": "display_data",
     "data": {
      "text/html": [
       "<style scoped>\n",
       "  .table-result-container {\n",
       "    max-height: 300px;\n",
       "    overflow: auto;\n",
       "  }\n",
       "  table, th, td {\n",
       "    border: 1px solid black;\n",
       "    border-collapse: collapse;\n",
       "  }\n",
       "  th, td {\n",
       "    padding: 5px;\n",
       "  }\n",
       "  th {\n",
       "    text-align: left;\n",
       "  }\n",
       "</style><div class='table-result-container'><table class='table-result'><thead style='background-color: white'><tr><th>column_name</th><th>data_type</th></tr></thead><tbody><tr><td>VendorID</td><td>INT</td></tr><tr><td>tpep_pickup_datetime</td><td>TIMESTAMP</td></tr><tr><td>tpep_dropoff_datetime</td><td>TIMESTAMP</td></tr><tr><td>passenger_count</td><td>INT</td></tr><tr><td>trip_distance</td><td>DOUBLE</td></tr><tr><td>pickup_longitude</td><td>DOUBLE</td></tr><tr><td>pickup_latitude</td><td>DOUBLE</td></tr><tr><td>RateCodeID</td><td>INT</td></tr><tr><td>store_and_fwd_flag</td><td>STRING</td></tr><tr><td>dropoff_longitude</td><td>DOUBLE</td></tr><tr><td>dropoff_latitude</td><td>DOUBLE</td></tr><tr><td>payment_type</td><td>INT</td></tr><tr><td>fare_amount</td><td>DOUBLE</td></tr><tr><td>extra</td><td>DOUBLE</td></tr><tr><td>mta_tax</td><td>DOUBLE</td></tr><tr><td>tip_amount</td><td>DOUBLE</td></tr><tr><td>tolls_amount</td><td>DOUBLE</td></tr><tr><td>improvement_surcharge</td><td>DOUBLE</td></tr><tr><td>total_amount</td><td>DOUBLE</td></tr><tr><td>_rescued_data</td><td>STRING</td></tr></tbody></table></div>"
      ]
     },
     "metadata": {
      "application/vnd.databricks.v1+output": {
       "addedWidgets": {},
       "aggData": [],
       "aggError": "",
       "aggOverflow": false,
       "aggSchema": [],
       "aggSeriesLimitReached": false,
       "aggType": "",
       "arguments": {},
       "columnCustomDisplayInfos": {},
       "data": [
        [
         "VendorID",
         "INT"
        ],
        [
         "tpep_pickup_datetime",
         "TIMESTAMP"
        ],
        [
         "tpep_dropoff_datetime",
         "TIMESTAMP"
        ],
        [
         "passenger_count",
         "INT"
        ],
        [
         "trip_distance",
         "DOUBLE"
        ],
        [
         "pickup_longitude",
         "DOUBLE"
        ],
        [
         "pickup_latitude",
         "DOUBLE"
        ],
        [
         "RateCodeID",
         "INT"
        ],
        [
         "store_and_fwd_flag",
         "STRING"
        ],
        [
         "dropoff_longitude",
         "DOUBLE"
        ],
        [
         "dropoff_latitude",
         "DOUBLE"
        ],
        [
         "payment_type",
         "INT"
        ],
        [
         "fare_amount",
         "DOUBLE"
        ],
        [
         "extra",
         "DOUBLE"
        ],
        [
         "mta_tax",
         "DOUBLE"
        ],
        [
         "tip_amount",
         "DOUBLE"
        ],
        [
         "tolls_amount",
         "DOUBLE"
        ],
        [
         "improvement_surcharge",
         "DOUBLE"
        ],
        [
         "total_amount",
         "DOUBLE"
        ],
        [
         "_rescued_data",
         "STRING"
        ]
       ],
       "datasetInfos": [
        {
         "name": "_sqldf",
         "schema": {
          "fields": [
           {
            "metadata": {
             "comment": "Name of the column."
            },
            "name": "column_name",
            "nullable": false,
            "type": "string"
           },
           {
            "metadata": {
             "comment": "The simple data type name of the column, or STRUCT, or ARRAY."
            },
            "name": "data_type",
            "nullable": false,
            "type": "string"
           }
          ],
          "type": "struct"
         },
         "tableIdentifier": null,
         "typeStr": "pyspark.sql.connect.dataframe.DataFrame"
        }
       ],
       "dbfsResultPath": null,
       "isJsonSchema": true,
       "metadata": {
        "createTempViewForImplicitDf": true,
        "dataframeName": "_sqldf",
        "executionCount": 9
       },
       "overflow": false,
       "plotOptions": {
        "customPlotOptions": {},
        "displayType": "table",
        "pivotAggregation": null,
        "pivotColumns": null,
        "xColumns": null,
        "yColumns": null
       },
       "removedWidgets": [],
       "schema": [
        {
         "metadata": "{\"comment\": \"Name of the column.\"}",
         "name": "column_name",
         "type": "\"string\""
        },
        {
         "metadata": "{\"comment\": \"The simple data type name of the column, or STRUCT, or ARRAY.\"}",
         "name": "data_type",
         "type": "\"string\""
        }
       ],
       "type": "table"
      }
     },
     "output_type": "display_data"
    }
   ],
   "source": [
    "%sql\n",
    "SELECT column_name, data_type\n",
    "FROM nyc_taxi.information_schema.columns\n",
    "WHERE table_name = 'bronze_data'\n",
    "  AND table_schema = 'default';"
   ]
  },
  {
   "cell_type": "markdown",
   "metadata": {
    "application/vnd.databricks.v1+cell": {
     "cellMetadata": {},
     "inputWidgets": {},
     "nuid": "c387ce79-8b3d-4690-ba97-af1f4ac80f60",
     "showTitle": false,
     "tableResultSettingsMap": {},
     "title": ""
    }
   },
   "source": [
    "### 1. Find the total number of trips in Jan 2015 and compare with Jan–Mar 2016."
   ]
  },
  {
   "cell_type": "code",
   "execution_count": 0,
   "metadata": {
    "application/vnd.databricks.v1+cell": {
     "cellMetadata": {
      "byteLimit": 2048000,
      "implicitDf": true,
      "rowLimit": 10000
     },
     "inputWidgets": {},
     "nuid": "a01e6eb3-1199-4825-9678-d0787450cf2a",
     "showTitle": false,
     "tableResultSettingsMap": {},
     "title": ""
    }
   },
   "outputs": [
    {
     "output_type": "display_data",
     "data": {
      "text/html": [
       "<style scoped>\n",
       "  .table-result-container {\n",
       "    max-height: 300px;\n",
       "    overflow: auto;\n",
       "  }\n",
       "  table, th, td {\n",
       "    border: 1px solid black;\n",
       "    border-collapse: collapse;\n",
       "  }\n",
       "  th, td {\n",
       "    padding: 5px;\n",
       "  }\n",
       "  th {\n",
       "    text-align: left;\n",
       "  }\n",
       "</style><div class='table-result-container'><table class='table-result'><thead style='background-color: white'><tr><th>number_of_trips</th><th>year</th><th>month</th></tr></thead><tbody><tr><td>12748986</td><td>2015</td><td>1</td></tr><tr><td>10906858</td><td>2016</td><td>1</td></tr><tr><td>11382049</td><td>2016</td><td>2</td></tr><tr><td>12210952</td><td>2016</td><td>3</td></tr></tbody></table></div>"
      ]
     },
     "metadata": {
      "application/vnd.databricks.v1+output": {
       "addedWidgets": {},
       "aggData": [],
       "aggError": "",
       "aggOverflow": false,
       "aggSchema": [],
       "aggSeriesLimitReached": false,
       "aggType": "",
       "arguments": {},
       "columnCustomDisplayInfos": {},
       "data": [
        [
         12748986,
         2015,
         1
        ],
        [
         10906858,
         2016,
         1
        ],
        [
         11382049,
         2016,
         2
        ],
        [
         12210952,
         2016,
         3
        ]
       ],
       "datasetInfos": [
        {
         "name": "_sqldf",
         "schema": {
          "fields": [
           {
            "metadata": {},
            "name": "number_of_trips",
            "nullable": false,
            "type": "long"
           },
           {
            "metadata": {},
            "name": "year",
            "nullable": true,
            "type": "integer"
           },
           {
            "metadata": {},
            "name": "month",
            "nullable": true,
            "type": "integer"
           }
          ],
          "type": "struct"
         },
         "tableIdentifier": null,
         "typeStr": "pyspark.sql.connect.dataframe.DataFrame"
        }
       ],
       "dbfsResultPath": null,
       "isJsonSchema": true,
       "metadata": {
        "createTempViewForImplicitDf": true,
        "dataframeName": "_sqldf",
        "executionCount": 16
       },
       "overflow": false,
       "plotOptions": {
        "customPlotOptions": {},
        "displayType": "table",
        "pivotAggregation": null,
        "pivotColumns": null,
        "xColumns": null,
        "yColumns": null
       },
       "removedWidgets": [],
       "schema": [
        {
         "metadata": "{}",
         "name": "number_of_trips",
         "type": "\"long\""
        },
        {
         "metadata": "{}",
         "name": "year",
         "type": "\"integer\""
        },
        {
         "metadata": "{}",
         "name": "month",
         "type": "\"integer\""
        }
       ],
       "type": "table"
      }
     },
     "output_type": "display_data"
    }
   ],
   "source": [
    "%sql\n",
    "select count(*) as number_of_trips,year(tpep_pickup_datetime) as year,month(tpep_pickup_datetime) as month from nyc_taxi.default.silver_data group by year,month order by year,month"
   ]
  },
  {
   "cell_type": "markdown",
   "metadata": {
    "application/vnd.databricks.v1+cell": {
     "cellMetadata": {},
     "inputWidgets": {},
     "nuid": "eb43c91e-6ca5-4a2e-a81a-84d15afff1d1",
     "showTitle": false,
     "tableResultSettingsMap": {},
     "title": ""
    }
   },
   "source": [
    "### 2. Calculate the average trip distance and average fare amount."
   ]
  },
  {
   "cell_type": "code",
   "execution_count": 0,
   "metadata": {
    "application/vnd.databricks.v1+cell": {
     "cellMetadata": {
      "byteLimit": 2048000,
      "implicitDf": true,
      "rowLimit": 10000
     },
     "inputWidgets": {},
     "nuid": "26c9fea7-c95e-4d02-8bda-1a3a8d1c4afd",
     "showTitle": false,
     "tableResultSettingsMap": {},
     "title": ""
    }
   },
   "outputs": [
    {
     "output_type": "display_data",
     "data": {
      "text/html": [
       "<style scoped>\n",
       "  .table-result-container {\n",
       "    max-height: 300px;\n",
       "    overflow: auto;\n",
       "  }\n",
       "  table, th, td {\n",
       "    border: 1px solid black;\n",
       "    border-collapse: collapse;\n",
       "  }\n",
       "  th, td {\n",
       "    padding: 5px;\n",
       "  }\n",
       "  th {\n",
       "    text-align: left;\n",
       "  }\n",
       "</style><div class='table-result-container'><table class='table-result'><thead style='background-color: white'><tr><th>average_trip_distance</th><th>average_fare_amount</th></tr></thead><tbody><tr><td>7.51 miles</td><td>$12.39</td></tr></tbody></table></div>"
      ]
     },
     "metadata": {
      "application/vnd.databricks.v1+output": {
       "addedWidgets": {},
       "aggData": [],
       "aggError": "",
       "aggOverflow": false,
       "aggSchema": [],
       "aggSeriesLimitReached": false,
       "aggType": "",
       "arguments": {},
       "columnCustomDisplayInfos": {},
       "data": [
        [
         "7.51 miles",
         "$12.39"
        ]
       ],
       "datasetInfos": [
        {
         "name": "_sqldf",
         "schema": {
          "fields": [
           {
            "metadata": {},
            "name": "average_trip_distance",
            "nullable": true,
            "type": "string"
           },
           {
            "metadata": {},
            "name": "average_fare_amount",
            "nullable": true,
            "type": "string"
           }
          ],
          "type": "struct"
         },
         "tableIdentifier": null,
         "typeStr": "pyspark.sql.connect.dataframe.DataFrame"
        }
       ],
       "dbfsResultPath": null,
       "isJsonSchema": true,
       "metadata": {
        "createTempViewForImplicitDf": true,
        "dataframeName": "_sqldf",
        "executionCount": 28
       },
       "overflow": false,
       "plotOptions": {
        "customPlotOptions": {},
        "displayType": "table",
        "pivotAggregation": null,
        "pivotColumns": null,
        "xColumns": null,
        "yColumns": null
       },
       "removedWidgets": [],
       "schema": [
        {
         "metadata": "{}",
         "name": "average_trip_distance",
         "type": "\"string\""
        },
        {
         "metadata": "{}",
         "name": "average_fare_amount",
         "type": "\"string\""
        }
       ],
       "type": "table"
      }
     },
     "output_type": "display_data"
    }
   ],
   "source": [
    "%sql\n",
    "select concat(round(avg(trip_distance),2),\" miles\") as average_trip_distance,concat(\"$\",round(avg(fare_amount),2)) as average_fare_amount from nyc_taxi.default.silver_data;"
   ]
  },
  {
   "cell_type": "markdown",
   "metadata": {
    "application/vnd.databricks.v1+cell": {
     "cellMetadata": {},
     "inputWidgets": {},
     "nuid": "4727824d-8486-4578-84e0-ba1c50f796ea",
     "showTitle": false,
     "tableResultSettingsMap": {},
     "title": ""
    }
   },
   "source": [
    "### 3.Find the busiest pickup hour of the day."
   ]
  },
  {
   "cell_type": "code",
   "execution_count": 0,
   "metadata": {
    "application/vnd.databricks.v1+cell": {
     "cellMetadata": {
      "byteLimit": 2048000,
      "implicitDf": true,
      "rowLimit": 10000
     },
     "inputWidgets": {},
     "nuid": "83efba98-4c57-4a0c-94bf-6d0816638f7c",
     "showTitle": false,
     "tableResultSettingsMap": {},
     "title": ""
    }
   },
   "outputs": [
    {
     "output_type": "display_data",
     "data": {
      "text/html": [
       "<style scoped>\n",
       "  .table-result-container {\n",
       "    max-height: 300px;\n",
       "    overflow: auto;\n",
       "  }\n",
       "  table, th, td {\n",
       "    border: 1px solid black;\n",
       "    border-collapse: collapse;\n",
       "  }\n",
       "  th, td {\n",
       "    padding: 5px;\n",
       "  }\n",
       "  th {\n",
       "    text-align: left;\n",
       "  }\n",
       "</style><div class='table-result-container'><table class='table-result'><thead style='background-color: white'><tr><th>number_of_trips</th><th>Busiest_hour</th></tr></thead><tbody><tr><td>2986286</td><td>18</td></tr></tbody></table></div>"
      ]
     },
     "metadata": {
      "application/vnd.databricks.v1+output": {
       "addedWidgets": {},
       "aggData": [],
       "aggError": "",
       "aggOverflow": false,
       "aggSchema": [],
       "aggSeriesLimitReached": false,
       "aggType": "",
       "arguments": {},
       "columnCustomDisplayInfos": {},
       "data": [
        [
         2986286,
         18
        ]
       ],
       "datasetInfos": [
        {
         "name": "_sqldf",
         "schema": {
          "fields": [
           {
            "metadata": {},
            "name": "number_of_trips",
            "nullable": false,
            "type": "long"
           },
           {
            "metadata": {},
            "name": "Busiest_hour",
            "nullable": true,
            "type": "integer"
           }
          ],
          "type": "struct"
         },
         "tableIdentifier": null,
         "typeStr": "pyspark.sql.connect.dataframe.DataFrame"
        }
       ],
       "dbfsResultPath": null,
       "isJsonSchema": true,
       "metadata": {
        "createTempViewForImplicitDf": true,
        "dataframeName": "_sqldf",
        "executionCount": 31
       },
       "overflow": false,
       "plotOptions": {
        "customPlotOptions": {},
        "displayType": "table",
        "pivotAggregation": null,
        "pivotColumns": null,
        "xColumns": null,
        "yColumns": null
       },
       "removedWidgets": [],
       "schema": [
        {
         "metadata": "{}",
         "name": "number_of_trips",
         "type": "\"long\""
        },
        {
         "metadata": "{}",
         "name": "Busiest_hour",
         "type": "\"integer\""
        }
       ],
       "type": "table"
      }
     },
     "output_type": "display_data"
    }
   ],
   "source": [
    "%sql\n",
    "select hour(tpep_pickup_datetime) as Busiest_hour,count(*) as number_of_trips from nyc_taxi.default.silver_data group by Busiest_hour order by number_of_trips desc limit 1"
   ]
  },
  {
   "cell_type": "markdown",
   "metadata": {
    "application/vnd.databricks.v1+cell": {
     "cellMetadata": {},
     "inputWidgets": {},
     "nuid": "857c16dd-7606-442c-bf00-4135d2b7b747",
     "showTitle": false,
     "tableResultSettingsMap": {},
     "title": ""
    }
   },
   "source": [
    "### 4. Calculate the total revenue per month"
   ]
  },
  {
   "cell_type": "code",
   "execution_count": 0,
   "metadata": {
    "application/vnd.databricks.v1+cell": {
     "cellMetadata": {
      "byteLimit": 2048000,
      "implicitDf": true,
      "rowLimit": 10000
     },
     "inputWidgets": {},
     "nuid": "aa8424cc-19e8-4c4c-a91c-133d6140ac48",
     "showTitle": false,
     "tableResultSettingsMap": {},
     "title": ""
    }
   },
   "outputs": [
    {
     "output_type": "display_data",
     "data": {
      "text/html": [
       "<style scoped>\n",
       "  .table-result-container {\n",
       "    max-height: 300px;\n",
       "    overflow: auto;\n",
       "  }\n",
       "  table, th, td {\n",
       "    border: 1px solid black;\n",
       "    border-collapse: collapse;\n",
       "  }\n",
       "  th, td {\n",
       "    padding: 5px;\n",
       "  }\n",
       "  th {\n",
       "    text-align: left;\n",
       "  }\n",
       "</style><div class='table-result-container'><table class='table-result'><thead style='background-color: white'><tr><th>year</th><th>month</th><th>total_revenue</th></tr></thead><tbody><tr><td>2015</td><td>1</td><td>1.9261543553201282E8</td></tr><tr><td>2016</td><td>1</td><td>1.7059847688128346E8</td></tr><tr><td>2016</td><td>2</td><td>1.7758995918046305E8</td></tr><tr><td>2016</td><td>3</td><td>1.9593473383996147E8</td></tr></tbody></table></div>"
      ]
     },
     "metadata": {
      "application/vnd.databricks.v1+output": {
       "addedWidgets": {},
       "aggData": [],
       "aggError": "",
       "aggOverflow": false,
       "aggSchema": [],
       "aggSeriesLimitReached": false,
       "aggType": "",
       "arguments": {},
       "columnCustomDisplayInfos": {},
       "data": [
        [
         2015,
         1,
         1.9261543553201282E8
        ],
        [
         2016,
         1,
         1.7059847688128346E8
        ],
        [
         2016,
         2,
         1.7758995918046305E8
        ],
        [
         2016,
         3,
         1.9593473383996147E8
        ]
       ],
       "datasetInfos": [
        {
         "name": "_sqldf",
         "schema": {
          "fields": [
           {
            "metadata": {},
            "name": "year",
            "nullable": true,
            "type": "integer"
           },
           {
            "metadata": {},
            "name": "month",
            "nullable": true,
            "type": "integer"
           },
           {
            "metadata": {},
            "name": "total_revenue",
            "nullable": true,
            "type": "double"
           }
          ],
          "type": "struct"
         },
         "tableIdentifier": null,
         "typeStr": "pyspark.sql.connect.dataframe.DataFrame"
        }
       ],
       "dbfsResultPath": null,
       "isJsonSchema": true,
       "metadata": {
        "createTempViewForImplicitDf": true,
        "dataframeName": "_sqldf",
        "executionCount": 36
       },
       "overflow": false,
       "plotOptions": {
        "customPlotOptions": {},
        "displayType": "table",
        "pivotAggregation": null,
        "pivotColumns": null,
        "xColumns": null,
        "yColumns": null
       },
       "removedWidgets": [],
       "schema": [
        {
         "metadata": "{}",
         "name": "year",
         "type": "\"integer\""
        },
        {
         "metadata": "{}",
         "name": "month",
         "type": "\"integer\""
        },
        {
         "metadata": "{}",
         "name": "total_revenue",
         "type": "\"double\""
        }
       ],
       "type": "table"
      }
     },
     "output_type": "display_data"
    }
   ],
   "source": [
    "%sql\n",
    "select year(tpep_pickup_datetime) as year,month(tpep_pickup_datetime) as month,sum(total_amount) as total_revenue from nyc_taxi.default.silver_data group by year,month order by year,month"
   ]
  },
  {
   "cell_type": "markdown",
   "metadata": {
    "application/vnd.databricks.v1+cell": {
     "cellMetadata": {},
     "inputWidgets": {},
     "nuid": "c05fbbba-f270-430b-bbc8-3bf5f184042a",
     "showTitle": false,
     "tableResultSettingsMap": {},
     "title": ""
    }
   },
   "source": [
    "### 5. Find the top 5 days with highest total revenue."
   ]
  },
  {
   "cell_type": "code",
   "execution_count": 0,
   "metadata": {
    "application/vnd.databricks.v1+cell": {
     "cellMetadata": {
      "byteLimit": 2048000,
      "implicitDf": true,
      "rowLimit": 10000
     },
     "inputWidgets": {},
     "nuid": "b9a8c799-0426-4525-9fba-10699f3f37a8",
     "showTitle": false,
     "tableResultSettingsMap": {
      "0": {
       "dataGridStateBlob": "{\"version\":1,\"tableState\":{\"columnPinning\":{\"left\":[\"#row_number#\"],\"right\":[]},\"columnSizing\":{},\"columnVisibility\":{}},\"settings\":{\"columns\":{\"total_revenue\":{\"format\":{\"preset\":\"number-preset-currency\",\"config\":{\"type\":\"number-currency\",\"abbreviation\":\"none\",\"decimalPlaces\":{\"type\":\"max\",\"places\":2},\"currencyCode\":\"USD\",\"hideGroupSeparator\":false}}}}},\"syncTimestamp\":1759329987424}",
       "filterBlob": null,
       "queryPlanFiltersBlob": null,
       "tableResultIndex": 0
      }
     },
     "title": ""
    }
   },
   "outputs": [
    {
     "output_type": "display_data",
     "data": {
      "text/html": [
       "<style scoped>\n",
       "  .table-result-container {\n",
       "    max-height: 300px;\n",
       "    overflow: auto;\n",
       "  }\n",
       "  table, th, td {\n",
       "    border: 1px solid black;\n",
       "    border-collapse: collapse;\n",
       "  }\n",
       "  th, td {\n",
       "    padding: 5px;\n",
       "  }\n",
       "  th {\n",
       "    text-align: left;\n",
       "  }\n",
       "</style><div class='table-result-container'><table class='table-result'><thead style='background-color: white'><tr><th>date</th><th>total_revenue</th></tr></thead><tbody><tr><td>2015-01-18</td><td>1.00009116E7</td></tr><tr><td>2015-01-30</td><td>7351182.7</td></tr><tr><td>2016-02-12</td><td>7272147.6</td></tr><tr><td>2015-01-31</td><td>7271657.4</td></tr><tr><td>2015-01-16</td><td>7252079.5</td></tr></tbody></table></div>"
      ]
     },
     "metadata": {
      "application/vnd.databricks.v1+output": {
       "addedWidgets": {},
       "aggData": [],
       "aggError": "",
       "aggOverflow": false,
       "aggSchema": [],
       "aggSeriesLimitReached": false,
       "aggType": "",
       "arguments": {},
       "columnCustomDisplayInfos": {},
       "data": [
        [
         "2015-01-18",
         1.00009116E7
        ],
        [
         "2015-01-30",
         7351182.7
        ],
        [
         "2016-02-12",
         7272147.6
        ],
        [
         "2015-01-31",
         7271657.4
        ],
        [
         "2015-01-16",
         7252079.5
        ]
       ],
       "datasetInfos": [
        {
         "name": "_sqldf",
         "schema": {
          "fields": [
           {
            "metadata": {},
            "name": "date",
            "nullable": true,
            "type": "date"
           },
           {
            "metadata": {},
            "name": "total_revenue",
            "nullable": true,
            "type": "double"
           }
          ],
          "type": "struct"
         },
         "tableIdentifier": null,
         "typeStr": "pyspark.sql.connect.dataframe.DataFrame"
        }
       ],
       "dbfsResultPath": null,
       "isJsonSchema": true,
       "metadata": {
        "createTempViewForImplicitDf": true,
        "dataframeName": "_sqldf",
        "executionCount": 46
       },
       "overflow": false,
       "plotOptions": {
        "customPlotOptions": {},
        "displayType": "table",
        "pivotAggregation": null,
        "pivotColumns": null,
        "xColumns": null,
        "yColumns": null
       },
       "removedWidgets": [],
       "schema": [
        {
         "metadata": "{}",
         "name": "date",
         "type": "\"date\""
        },
        {
         "metadata": "{}",
         "name": "total_revenue",
         "type": "\"double\""
        }
       ],
       "type": "table"
      }
     },
     "output_type": "display_data"
    }
   ],
   "source": [
    "%sql\n",
    "select date(tpep_pickup_datetime) as date,round(sum(total_amount),1) as total_revenue from nyc_taxi.default.silver_data group by date order by total_revenue desc limit 5"
   ]
  },
  {
   "cell_type": "markdown",
   "metadata": {
    "application/vnd.databricks.v1+cell": {
     "cellMetadata": {},
     "inputWidgets": {},
     "nuid": "5c9e6ee3-47ab-4891-b214-8e1730f1d333",
     "showTitle": false,
     "tableResultSettingsMap": {},
     "title": ""
    }
   },
   "source": [
    "### 6. Top 10 most common pick ups"
   ]
  },
  {
   "cell_type": "code",
   "execution_count": 0,
   "metadata": {
    "application/vnd.databricks.v1+cell": {
     "cellMetadata": {
      "byteLimit": 2048000,
      "implicitDf": true,
      "rowLimit": 10000
     },
     "inputWidgets": {},
     "nuid": "b7fd6eb5-2fef-45b3-8d2a-1298c829be0f",
     "showTitle": false,
     "tableResultSettingsMap": {},
     "title": ""
    }
   },
   "outputs": [
    {
     "output_type": "display_data",
     "data": {
      "text/html": [
       "<style scoped>\n",
       "  .table-result-container {\n",
       "    max-height: 300px;\n",
       "    overflow: auto;\n",
       "  }\n",
       "  table, th, td {\n",
       "    border: 1px solid black;\n",
       "    border-collapse: collapse;\n",
       "  }\n",
       "  th, td {\n",
       "    padding: 5px;\n",
       "  }\n",
       "  th {\n",
       "    text-align: left;\n",
       "  }\n",
       "</style><div class='table-result-container'><table class='table-result'><thead style='background-color: white'><tr><th>pickup_latitude</th><th>pickup_longitude</th><th>total_trips</th></tr></thead><tbody><tr><td>0.0</td><td>0.0</td><td>772525</td></tr><tr><td>40.82100296020508</td><td>-73.95466613769531</td><td>1523</td></tr><tr><td>40.74489974975586</td><td>-73.94863891601562</td><td>1043</td></tr><tr><td>40.69314193725586</td><td>-74.1863021850586</td><td>729</td></tr><tr><td>40.76948547363281</td><td>-73.86331939697266</td><td>520</td></tr><tr><td>40.7222900390625</td><td>-73.9867172241211</td><td>431</td></tr><tr><td>40.74357604980469</td><td>-73.91512298583984</td><td>307</td></tr><tr><td>40.774051666259766</td><td>-73.87445831298828</td><td>301</td></tr><tr><td>40.773738861083984</td><td>-73.8708724975586</td><td>299</td></tr><tr><td>40.64537048339844</td><td>-73.77670288085938</td><td>285</td></tr></tbody></table></div>"
      ]
     },
     "metadata": {
      "application/vnd.databricks.v1+output": {
       "addedWidgets": {},
       "aggData": [],
       "aggError": "",
       "aggOverflow": false,
       "aggSchema": [],
       "aggSeriesLimitReached": false,
       "aggType": "",
       "arguments": {},
       "columnCustomDisplayInfos": {},
       "data": [
        [
         0.0,
         0.0,
         772525
        ],
        [
         40.82100296020508,
         -73.95466613769531,
         1523
        ],
        [
         40.74489974975586,
         -73.94863891601562,
         1043
        ],
        [
         40.69314193725586,
         -74.1863021850586,
         729
        ],
        [
         40.76948547363281,
         -73.86331939697266,
         520
        ],
        [
         40.7222900390625,
         -73.9867172241211,
         431
        ],
        [
         40.74357604980469,
         -73.91512298583984,
         307
        ],
        [
         40.774051666259766,
         -73.87445831298828,
         301
        ],
        [
         40.773738861083984,
         -73.8708724975586,
         299
        ],
        [
         40.64537048339844,
         -73.77670288085938,
         285
        ]
       ],
       "datasetInfos": [
        {
         "name": "_sqldf",
         "schema": {
          "fields": [
           {
            "metadata": {},
            "name": "pickup_latitude",
            "nullable": true,
            "type": "double"
           },
           {
            "metadata": {},
            "name": "pickup_longitude",
            "nullable": true,
            "type": "double"
           },
           {
            "metadata": {},
            "name": "total_trips",
            "nullable": false,
            "type": "long"
           }
          ],
          "type": "struct"
         },
         "tableIdentifier": null,
         "typeStr": "pyspark.sql.connect.dataframe.DataFrame"
        }
       ],
       "dbfsResultPath": null,
       "isJsonSchema": true,
       "metadata": {
        "createTempViewForImplicitDf": true,
        "dataframeName": "_sqldf",
        "executionCount": 2
       },
       "overflow": false,
       "plotOptions": {
        "customPlotOptions": {},
        "displayType": "table",
        "pivotAggregation": null,
        "pivotColumns": null,
        "xColumns": null,
        "yColumns": null
       },
       "removedWidgets": [],
       "schema": [
        {
         "metadata": "{}",
         "name": "pickup_latitude",
         "type": "\"double\""
        },
        {
         "metadata": "{}",
         "name": "pickup_longitude",
         "type": "\"double\""
        },
        {
         "metadata": "{}",
         "name": "total_trips",
         "type": "\"long\""
        }
       ],
       "type": "table"
      }
     },
     "output_type": "display_data"
    }
   ],
   "source": [
    "%sql\n",
    "select pickup_latitude,pickup_longitude,count(*) as total_trips from nyc_taxi.default.silver_data group by pickup_latitude,pickup_longitude order by total_trips desc limit 10"
   ]
  },
  {
   "cell_type": "markdown",
   "metadata": {
    "application/vnd.databricks.v1+cell": {
     "cellMetadata": {},
     "inputWidgets": {},
     "nuid": "9a393b3e-209d-4cd6-82a9-0137cb7f9d2d",
     "showTitle": false,
     "tableResultSettingsMap": {},
     "title": ""
    }
   },
   "source": [
    "### 7. Top 10 most common drops"
   ]
  },
  {
   "cell_type": "code",
   "execution_count": 0,
   "metadata": {
    "application/vnd.databricks.v1+cell": {
     "cellMetadata": {
      "byteLimit": 2048000,
      "implicitDf": true,
      "rowLimit": 10000
     },
     "inputWidgets": {},
     "nuid": "aa95e956-d889-4683-8994-cac13fbe8f7f",
     "showTitle": false,
     "tableResultSettingsMap": {},
     "title": ""
    }
   },
   "outputs": [
    {
     "output_type": "display_data",
     "data": {
      "text/html": [
       "<style scoped>\n",
       "  .table-result-container {\n",
       "    max-height: 300px;\n",
       "    overflow: auto;\n",
       "  }\n",
       "  table, th, td {\n",
       "    border: 1px solid black;\n",
       "    border-collapse: collapse;\n",
       "  }\n",
       "  th, td {\n",
       "    padding: 5px;\n",
       "  }\n",
       "  th {\n",
       "    text-align: left;\n",
       "  }\n",
       "</style><div class='table-result-container'><table class='table-result'><thead style='background-color: white'><tr><th>dropoff_latitude</th><th>dropoff_longitude</th><th>total_trips</th></tr></thead><tbody><tr><td>0.0</td><td>0.0</td><td>733832</td></tr><tr><td>40.82100296020508</td><td>-73.95466613769531</td><td>1523</td></tr><tr><td>40.74489974975586</td><td>-73.94863891601562</td><td>1043</td></tr><tr><td>40.69314193725586</td><td>-74.1863021850586</td><td>729</td></tr><tr><td>40.76948547363281</td><td>-73.86331939697266</td><td>503</td></tr><tr><td>40.7222900390625</td><td>-73.9867172241211</td><td>429</td></tr><tr><td>40.74357604980469</td><td>-73.91512298583984</td><td>322</td></tr><tr><td>40.72767639160156</td><td>-74.00314331054688</td><td>233</td></tr><tr><td>40.731502532958984</td><td>-73.98845672607422</td><td>158</td></tr><tr><td>40.691463470458984</td><td>-73.92151641845703</td><td>153</td></tr></tbody></table></div>"
      ]
     },
     "metadata": {
      "application/vnd.databricks.v1+output": {
       "addedWidgets": {},
       "aggData": [],
       "aggError": "",
       "aggOverflow": false,
       "aggSchema": [],
       "aggSeriesLimitReached": false,
       "aggType": "",
       "arguments": {},
       "columnCustomDisplayInfos": {},
       "data": [
        [
         0.0,
         0.0,
         733832
        ],
        [
         40.82100296020508,
         -73.95466613769531,
         1523
        ],
        [
         40.74489974975586,
         -73.94863891601562,
         1043
        ],
        [
         40.69314193725586,
         -74.1863021850586,
         729
        ],
        [
         40.76948547363281,
         -73.86331939697266,
         503
        ],
        [
         40.7222900390625,
         -73.9867172241211,
         429
        ],
        [
         40.74357604980469,
         -73.91512298583984,
         322
        ],
        [
         40.72767639160156,
         -74.00314331054688,
         233
        ],
        [
         40.731502532958984,
         -73.98845672607422,
         158
        ],
        [
         40.691463470458984,
         -73.92151641845703,
         153
        ]
       ],
       "datasetInfos": [
        {
         "name": "_sqldf",
         "schema": {
          "fields": [
           {
            "metadata": {},
            "name": "dropoff_latitude",
            "nullable": true,
            "type": "double"
           },
           {
            "metadata": {},
            "name": "dropoff_longitude",
            "nullable": true,
            "type": "double"
           },
           {
            "metadata": {},
            "name": "total_trips",
            "nullable": false,
            "type": "long"
           }
          ],
          "type": "struct"
         },
         "tableIdentifier": null,
         "typeStr": "pyspark.sql.connect.dataframe.DataFrame"
        }
       ],
       "dbfsResultPath": null,
       "isJsonSchema": true,
       "metadata": {
        "createTempViewForImplicitDf": true,
        "dataframeName": "_sqldf",
        "executionCount": 4
       },
       "overflow": false,
       "plotOptions": {
        "customPlotOptions": {},
        "displayType": "table",
        "pivotAggregation": null,
        "pivotColumns": null,
        "xColumns": null,
        "yColumns": null
       },
       "removedWidgets": [],
       "schema": [
        {
         "metadata": "{}",
         "name": "dropoff_latitude",
         "type": "\"double\""
        },
        {
         "metadata": "{}",
         "name": "dropoff_longitude",
         "type": "\"double\""
        },
        {
         "metadata": "{}",
         "name": "total_trips",
         "type": "\"long\""
        }
       ],
       "type": "table"
      }
     },
     "output_type": "display_data"
    }
   ],
   "source": [
    "%sql\n",
    "select dropoff_latitude,dropoff_longitude,count(*) as total_trips from nyc_taxi.default.silver_data group by dropoff_latitude,dropoff_longitude order by total_trips desc limit 10"
   ]
  },
  {
   "cell_type": "markdown",
   "metadata": {
    "application/vnd.databricks.v1+cell": {
     "cellMetadata": {},
     "inputWidgets": {},
     "nuid": "168d73ac-73f3-412f-b1b2-9c2f6f470056",
     "showTitle": false,
     "tableResultSettingsMap": {},
     "title": ""
    }
   },
   "source": [
    "### 8. Find the longest trip (by distance) and highest fare trip."
   ]
  },
  {
   "cell_type": "code",
   "execution_count": 0,
   "metadata": {
    "application/vnd.databricks.v1+cell": {
     "cellMetadata": {
      "byteLimit": 2048000,
      "implicitDf": true,
      "rowLimit": 10000
     },
     "inputWidgets": {},
     "nuid": "3b2fb4ed-504a-4cf2-beb3-b980fa793a3d",
     "showTitle": false,
     "tableResultSettingsMap": {
      "0": {
       "dataGridStateBlob": "{\"version\":1,\"tableState\":{\"columnPinning\":{\"left\":[\"#row_number#\"],\"right\":[]},\"columnSizing\":{},\"columnVisibility\":{}},\"settings\":{\"columns\":{}},\"syncTimestamp\":1759332311557}",
       "filterBlob": null,
       "queryPlanFiltersBlob": null,
       "tableResultIndex": 0
      }
     },
     "title": ""
    }
   },
   "outputs": [
    {
     "output_type": "display_data",
     "data": {
      "text/html": [
       "<style scoped>\n",
       "  .table-result-container {\n",
       "    max-height: 300px;\n",
       "    overflow: auto;\n",
       "  }\n",
       "  table, th, td {\n",
       "    border: 1px solid black;\n",
       "    border-collapse: collapse;\n",
       "  }\n",
       "  th, td {\n",
       "    padding: 5px;\n",
       "  }\n",
       "  th {\n",
       "    text-align: left;\n",
       "  }\n",
       "</style><div class='table-result-container'><table class='table-result'><thead style='background-color: white'><tr><th>VendorID</th><th>tpep_pickup_datetime</th><th>tpep_dropoff_datetime</th><th>passenger_count</th><th>trip_distance</th><th>pickup_longitude</th><th>pickup_latitude</th><th>dropoff_longitude</th><th>dropoff_latitude</th><th>payment_type</th><th>fare_amount</th><th>tip_amount</th><th>total_amount</th></tr></thead><tbody><tr><td>1</td><td>2016-03-10T22:59:51.000Z</td><td>2016-03-11T00:18:58.000Z</td><td>1</td><td>0.0</td><td>-73.99555206298828</td><td>40.71595001220703</td><td>-73.9388656616211</td><td>40.82597351074219</td><td>2</td><td>429496.72</td><td>0.0</td><td>429562.25</td></tr></tbody></table></div>"
      ]
     },
     "metadata": {
      "application/vnd.databricks.v1+output": {
       "addedWidgets": {},
       "aggData": [],
       "aggError": "",
       "aggOverflow": false,
       "aggSchema": [],
       "aggSeriesLimitReached": false,
       "aggType": "",
       "arguments": {},
       "columnCustomDisplayInfos": {},
       "data": [
        [
         1,
         "2016-03-10T22:59:51.000Z",
         "2016-03-11T00:18:58.000Z",
         1,
         0.0,
         -73.99555206298828,
         40.71595001220703,
         -73.9388656616211,
         40.82597351074219,
         2,
         429496.72,
         0.0,
         429562.25
        ]
       ],
       "datasetInfos": [
        {
         "name": "_sqldf",
         "schema": {
          "fields": [
           {
            "metadata": {},
            "name": "VendorID",
            "nullable": true,
            "type": "integer"
           },
           {
            "metadata": {},
            "name": "tpep_pickup_datetime",
            "nullable": true,
            "type": "timestamp"
           },
           {
            "metadata": {},
            "name": "tpep_dropoff_datetime",
            "nullable": true,
            "type": "timestamp"
           },
           {
            "metadata": {},
            "name": "passenger_count",
            "nullable": true,
            "type": "integer"
           },
           {
            "metadata": {},
            "name": "trip_distance",
            "nullable": true,
            "type": "double"
           },
           {
            "metadata": {},
            "name": "pickup_longitude",
            "nullable": true,
            "type": "double"
           },
           {
            "metadata": {},
            "name": "pickup_latitude",
            "nullable": true,
            "type": "double"
           },
           {
            "metadata": {},
            "name": "dropoff_longitude",
            "nullable": true,
            "type": "double"
           },
           {
            "metadata": {},
            "name": "dropoff_latitude",
            "nullable": true,
            "type": "double"
           },
           {
            "metadata": {},
            "name": "payment_type",
            "nullable": true,
            "type": "integer"
           },
           {
            "metadata": {},
            "name": "fare_amount",
            "nullable": true,
            "type": "double"
           },
           {
            "metadata": {},
            "name": "tip_amount",
            "nullable": true,
            "type": "double"
           },
           {
            "metadata": {},
            "name": "total_amount",
            "nullable": true,
            "type": "double"
           }
          ],
          "type": "struct"
         },
         "tableIdentifier": null,
         "typeStr": "pyspark.sql.connect.dataframe.DataFrame"
        }
       ],
       "dbfsResultPath": null,
       "isJsonSchema": true,
       "metadata": {
        "createTempViewForImplicitDf": true,
        "dataframeName": "_sqldf",
        "executionCount": 18
       },
       "overflow": false,
       "plotOptions": {
        "customPlotOptions": {},
        "displayType": "table",
        "pivotAggregation": null,
        "pivotColumns": null,
        "xColumns": null,
        "yColumns": null
       },
       "removedWidgets": [],
       "schema": [
        {
         "metadata": "{}",
         "name": "VendorID",
         "type": "\"integer\""
        },
        {
         "metadata": "{}",
         "name": "tpep_pickup_datetime",
         "type": "\"timestamp\""
        },
        {
         "metadata": "{}",
         "name": "tpep_dropoff_datetime",
         "type": "\"timestamp\""
        },
        {
         "metadata": "{}",
         "name": "passenger_count",
         "type": "\"integer\""
        },
        {
         "metadata": "{}",
         "name": "trip_distance",
         "type": "\"double\""
        },
        {
         "metadata": "{}",
         "name": "pickup_longitude",
         "type": "\"double\""
        },
        {
         "metadata": "{}",
         "name": "pickup_latitude",
         "type": "\"double\""
        },
        {
         "metadata": "{}",
         "name": "dropoff_longitude",
         "type": "\"double\""
        },
        {
         "metadata": "{}",
         "name": "dropoff_latitude",
         "type": "\"double\""
        },
        {
         "metadata": "{}",
         "name": "payment_type",
         "type": "\"integer\""
        },
        {
         "metadata": "{}",
         "name": "fare_amount",
         "type": "\"double\""
        },
        {
         "metadata": "{}",
         "name": "tip_amount",
         "type": "\"double\""
        },
        {
         "metadata": "{}",
         "name": "total_amount",
         "type": "\"double\""
        }
       ],
       "type": "table"
      }
     },
     "output_type": "display_data"
    }
   ],
   "source": [
    "%sql\n",
    "-- Longest Trip Details\n",
    "SELECT *\n",
    "FROM nyc_taxi.default.silver_data\n",
    "WHERE trip_distance = (\n",
    "    SELECT MAX(trip_distance) FROM nyc_taxi.default.silver_data\n",
    ");\n",
    "\n",
    "-- Highest Fare Trip Details\n",
    "SELECT *\n",
    "FROM nyc_taxi.default.silver_data\n",
    "WHERE fare_amount = (\n",
    "    SELECT MAX(fare_amount) FROM nyc_taxi.default.silver_data\n",
    ");\n"
   ]
  },
  {
   "cell_type": "markdown",
   "metadata": {
    "application/vnd.databricks.v1+cell": {
     "cellMetadata": {},
     "inputWidgets": {},
     "nuid": "04b58796-7642-4f13-b3a7-3ea264c7711d",
     "showTitle": false,
     "tableResultSettingsMap": {},
     "title": ""
    }
   },
   "source": [
    "### 9. Calculate the percentage of trips with passenger_count > 3."
   ]
  },
  {
   "cell_type": "code",
   "execution_count": 0,
   "metadata": {
    "application/vnd.databricks.v1+cell": {
     "cellMetadata": {
      "byteLimit": 2048000,
      "implicitDf": true,
      "rowLimit": 10000
     },
     "inputWidgets": {},
     "nuid": "76cf7ec7-41b1-4ec9-9308-c7a685de11f5",
     "showTitle": false,
     "tableResultSettingsMap": {},
     "title": ""
    }
   },
   "outputs": [
    {
     "output_type": "display_data",
     "data": {
      "text/html": [
       "<style scoped>\n",
       "  .table-result-container {\n",
       "    max-height: 300px;\n",
       "    overflow: auto;\n",
       "  }\n",
       "  table, th, td {\n",
       "    border: 1px solid black;\n",
       "    border-collapse: collapse;\n",
       "  }\n",
       "  th, td {\n",
       "    padding: 5px;\n",
       "  }\n",
       "  th {\n",
       "    text-align: left;\n",
       "  }\n",
       "</style><div class='table-result-container'><table class='table-result'><thead style='background-color: white'><tr><th>percent</th></tr></thead><tbody><tr><td>10.73</td></tr></tbody></table></div>"
      ]
     },
     "metadata": {
      "application/vnd.databricks.v1+output": {
       "addedWidgets": {},
       "aggData": [],
       "aggError": "",
       "aggOverflow": false,
       "aggSchema": [],
       "aggSeriesLimitReached": false,
       "aggType": "",
       "arguments": {},
       "columnCustomDisplayInfos": {},
       "data": [
        [
         "10.73"
        ]
       ],
       "datasetInfos": [
        {
         "name": "_sqldf",
         "schema": {
          "fields": [
           {
            "metadata": {},
            "name": "percent",
            "nullable": true,
            "type": "decimal(27,2)"
           }
          ],
          "type": "struct"
         },
         "tableIdentifier": null,
         "typeStr": "pyspark.sql.connect.dataframe.DataFrame"
        }
       ],
       "dbfsResultPath": null,
       "isJsonSchema": true,
       "metadata": {
        "createTempViewForImplicitDf": true,
        "dataframeName": "_sqldf",
        "executionCount": 74
       },
       "overflow": false,
       "plotOptions": {
        "customPlotOptions": {},
        "displayType": "table",
        "pivotAggregation": null,
        "pivotColumns": null,
        "xColumns": null,
        "yColumns": null
       },
       "removedWidgets": [],
       "schema": [
        {
         "metadata": "{}",
         "name": "percent",
         "type": "\"decimal(27,2)\""
        }
       ],
       "type": "table"
      }
     },
     "output_type": "display_data"
    }
   ],
   "source": [
    "%sql\n",
    "select\n",
    "round(\n",
    "(count(case when passenger_count>3 then 1 end) * 100.0) / count(*) ,2) as percent\n",
    "from nyc_taxi.default.silver_data"
   ]
  },
  {
   "cell_type": "markdown",
   "metadata": {
    "application/vnd.databricks.v1+cell": {
     "cellMetadata": {},
     "inputWidgets": {},
     "nuid": "3b1f4bf6-1a15-4107-a415-17e865696f45",
     "showTitle": false,
     "tableResultSettingsMap": {},
     "title": ""
    }
   },
   "source": [
    "### 10. Identify if extra charges (MTA_tax, surcharge) significantly affect final fare."
   ]
  },
  {
   "cell_type": "code",
   "execution_count": 0,
   "metadata": {
    "application/vnd.databricks.v1+cell": {
     "cellMetadata": {
      "byteLimit": 2048000,
      "implicitDf": true,
      "rowLimit": 10000
     },
     "inputWidgets": {},
     "nuid": "685e7df5-0c79-4c7d-b156-575429d1bf7c",
     "showTitle": false,
     "tableResultSettingsMap": {
      "0": {
       "dataGridStateBlob": "{\"version\":1,\"tableState\":{\"columnPinning\":{\"left\":[\"#row_number#\"],\"right\":[]},\"columnSizing\":{},\"columnVisibility\":{}},\"settings\":{\"columns\":{}},\"syncTimestamp\":1759335113883}",
       "filterBlob": null,
       "queryPlanFiltersBlob": null,
       "tableResultIndex": 0
      }
     },
     "title": ""
    }
   },
   "outputs": [
    {
     "output_type": "display_data",
     "data": {
      "text/html": [
       "<style scoped>\n",
       "  .table-result-container {\n",
       "    max-height: 300px;\n",
       "    overflow: auto;\n",
       "  }\n",
       "  table, th, td {\n",
       "    border: 1px solid black;\n",
       "    border-collapse: collapse;\n",
       "  }\n",
       "  th, td {\n",
       "    padding: 5px;\n",
       "  }\n",
       "  th {\n",
       "    text-align: left;\n",
       "  }\n",
       "</style><div class='table-result-container'><table class='table-result'><thead style='background-color: white'><tr><th>extra_flag</th><th>trip_count</th><th>avg_total_amount</th></tr></thead><tbody><tr><td>With_Extras</td><td>47221988</td><td>15.6</td></tr><tr><td>No_Extras</td><td>26857</td><td>8.17</td></tr></tbody></table></div>"
      ]
     },
     "metadata": {
      "application/vnd.databricks.v1+output": {
       "addedWidgets": {},
       "aggData": [],
       "aggError": "",
       "aggOverflow": false,
       "aggSchema": [],
       "aggSeriesLimitReached": false,
       "aggType": "",
       "arguments": {},
       "columnCustomDisplayInfos": {},
       "data": [
        [
         "With_Extras",
         47221988,
         15.6
        ],
        [
         "No_Extras",
         26857,
         8.17
        ]
       ],
       "datasetInfos": [
        {
         "name": "_sqldf",
         "schema": {
          "fields": [
           {
            "metadata": {},
            "name": "extra_flag",
            "nullable": false,
            "type": "string"
           },
           {
            "metadata": {},
            "name": "trip_count",
            "nullable": false,
            "type": "long"
           },
           {
            "metadata": {},
            "name": "avg_total_amount",
            "nullable": true,
            "type": "double"
           }
          ],
          "type": "struct"
         },
         "tableIdentifier": null,
         "typeStr": "pyspark.sql.connect.dataframe.DataFrame"
        }
       ],
       "dbfsResultPath": null,
       "isJsonSchema": true,
       "metadata": {
        "createTempViewForImplicitDf": true,
        "dataframeName": "_sqldf",
        "executionCount": 108
       },
       "overflow": false,
       "plotOptions": {
        "customPlotOptions": {},
        "displayType": "table",
        "pivotAggregation": null,
        "pivotColumns": null,
        "xColumns": null,
        "yColumns": null
       },
       "removedWidgets": [],
       "schema": [
        {
         "metadata": "{}",
         "name": "extra_flag",
         "type": "\"string\""
        },
        {
         "metadata": "{}",
         "name": "trip_count",
         "type": "\"long\""
        },
        {
         "metadata": "{}",
         "name": "avg_total_amount",
         "type": "\"double\""
        }
       ],
       "type": "table"
      }
     },
     "output_type": "display_data"
    }
   ],
   "source": [
    "%sql\n",
    "select case when (extra+mta_tax+improvement_surcharge)>0 then \"Extra\" else \"No extra\" end as affecting,count(*) as total_trips,sum(total_amount) as amount from nyc_taxi.default.bronze_data group by affecting;"
   ]
  }
 ],
 "metadata": {
  "application/vnd.databricks.v1+notebook": {
   "computePreferences": {
    "hardware": {
     "accelerator": null,
     "gpuPoolId": null,
     "memory": null
    }
   },
   "dashboards": [],
   "environmentMetadata": {
    "base_environment": "",
    "environment_version": "3"
   },
   "inputWidgetPreferences": null,
   "language": "python",
   "notebookMetadata": {
    "mostRecentlyExecutedCommandWithImplicitDF": {
     "commandId": 7078830072979725,
     "dataframes": [
      "_sqldf"
     ]
    },
    "pythonIndentUnit": 4
   },
   "notebookName": "analysis",
   "widgets": {}
  },
  "language_info": {
   "name": "python"
  }
 },
 "nbformat": 4,
 "nbformat_minor": 0
}