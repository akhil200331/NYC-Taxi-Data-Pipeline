{
 "cells": [
  {
   "cell_type": "code",
   "execution_count": 0,
   "metadata": {
    "application/vnd.databricks.v1+cell": {
     "cellMetadata": {
      "byteLimit": 2048000,
      "rowLimit": 10000
     },
     "inputWidgets": {},
     "nuid": "12aeabb2-38f9-4183-aa71-3c7bedadad28",
     "showTitle": false,
     "tableResultSettingsMap": {},
     "title": ""
    }
   },
   "outputs": [],
   "source": []
  },
  {
   "cell_type": "code",
   "execution_count": 0,
   "metadata": {
    "application/vnd.databricks.v1+cell": {
     "cellMetadata": {
      "byteLimit": 2048000,
      "implicitDf": true,
      "rowLimit": 10000
     },
     "inputWidgets": {},
     "nuid": "ecb67387-84f3-4214-a3a8-d2c5eaefdf00",
     "showTitle": false,
     "tableResultSettingsMap": {
      "0": {
       "dataGridStateBlob": "{\"version\":1,\"tableState\":{\"columnPinning\":{\"left\":[\"#row_number#\"],\"right\":[]},\"columnSizing\":{},\"columnVisibility\":{}},\"settings\":{\"columns\":{}},\"syncTimestamp\":1759328536411}",
       "filterBlob": null,
       "queryPlanFiltersBlob": null,
       "tableResultIndex": 0
      }
     },
     "title": ""
    }
   },
   "outputs": [
    {
     "output_type": "display_data",
     "data": {
      "text/html": [
       "<style scoped>\n",
       "  .table-result-container {\n",
       "    max-height: 300px;\n",
       "    overflow: auto;\n",
       "  }\n",
       "  table, th, td {\n",
       "    border: 1px solid black;\n",
       "    border-collapse: collapse;\n",
       "  }\n",
       "  th, td {\n",
       "    padding: 5px;\n",
       "  }\n",
       "  th {\n",
       "    text-align: left;\n",
       "  }\n",
       "</style><div class='table-result-container'><table class='table-result'><thead style='background-color: white'><tr><th>column_name</th><th>data_type</th></tr></thead><tbody><tr><td>VendorID</td><td>INT</td></tr><tr><td>tpep_pickup_datetime</td><td>TIMESTAMP</td></tr><tr><td>tpep_dropoff_datetime</td><td>TIMESTAMP</td></tr><tr><td>passenger_count</td><td>LONG</td></tr><tr><td>trip_distance</td><td>DOUBLE</td></tr><tr><td>RateCodeID</td><td>LONG</td></tr><tr><td>store_and_fwd_flag</td><td>STRING</td></tr><tr><td>PULocationID</td><td>INT</td></tr><tr><td>DOLocationID</td><td>INT</td></tr><tr><td>payment_type</td><td>LONG</td></tr><tr><td>fare_amount</td><td>DOUBLE</td></tr><tr><td>extra</td><td>DOUBLE</td></tr><tr><td>mta_tax</td><td>DOUBLE</td></tr><tr><td>tip_amount</td><td>DOUBLE</td></tr><tr><td>tolls_amount</td><td>DOUBLE</td></tr><tr><td>improvement_surcharge</td><td>DOUBLE</td></tr><tr><td>total_amount</td><td>DOUBLE</td></tr><tr><td>congestion_surcharge</td><td>DOUBLE</td></tr><tr><td>Airport_fee</td><td>DOUBLE</td></tr><tr><td>cbd_congestion_fee</td><td>DOUBLE</td></tr></tbody></table></div>"
      ]
     },
     "metadata": {
      "application/vnd.databricks.v1+output": {
       "addedWidgets": {},
       "aggData": [],
       "aggError": "",
       "aggOverflow": false,
       "aggSchema": [],
       "aggSeriesLimitReached": false,
       "aggType": "",
       "arguments": {},
       "columnCustomDisplayInfos": {},
       "data": [
        [
         "VendorID",
         "INT"
        ],
        [
         "tpep_pickup_datetime",
         "TIMESTAMP"
        ],
        [
         "tpep_dropoff_datetime",
         "TIMESTAMP"
        ],
        [
         "passenger_count",
         "LONG"
        ],
        [
         "trip_distance",
         "DOUBLE"
        ],
        [
         "RateCodeID",
         "LONG"
        ],
        [
         "store_and_fwd_flag",
         "STRING"
        ],
        [
         "PULocationID",
         "INT"
        ],
        [
         "DOLocationID",
         "INT"
        ],
        [
         "payment_type",
         "LONG"
        ],
        [
         "fare_amount",
         "DOUBLE"
        ],
        [
         "extra",
         "DOUBLE"
        ],
        [
         "mta_tax",
         "DOUBLE"
        ],
        [
         "tip_amount",
         "DOUBLE"
        ],
        [
         "tolls_amount",
         "DOUBLE"
        ],
        [
         "improvement_surcharge",
         "DOUBLE"
        ],
        [
         "total_amount",
         "DOUBLE"
        ],
        [
         "congestion_surcharge",
         "DOUBLE"
        ],
        [
         "Airport_fee",
         "DOUBLE"
        ],
        [
         "cbd_congestion_fee",
         "DOUBLE"
        ]
       ],
       "datasetInfos": [
        {
         "name": "_sqldf",
         "schema": {
          "fields": [
           {
            "metadata": {
             "comment": "Name of the column."
            },
            "name": "column_name",
            "nullable": false,
            "type": "string"
           },
           {
            "metadata": {
             "comment": "The simple data type name of the column, or STRUCT, or ARRAY."
            },
            "name": "data_type",
            "nullable": false,
            "type": "string"
           }
          ],
          "type": "struct"
         },
         "tableIdentifier": null,
         "typeStr": "pyspark.sql.connect.dataframe.DataFrame"
        }
       ],
       "dbfsResultPath": null,
       "isJsonSchema": true,
       "metadata": {
        "createTempViewForImplicitDf": true,
        "dataframeName": "_sqldf",
        "executionCount": 2
       },
       "overflow": false,
       "plotOptions": {
        "customPlotOptions": {},
        "displayType": "table",
        "pivotAggregation": null,
        "pivotColumns": null,
        "xColumns": null,
        "yColumns": null
       },
       "removedWidgets": [],
       "schema": [
        {
         "metadata": "{\"comment\": \"Name of the column.\"}",
         "name": "column_name",
         "type": "\"string\""
        },
        {
         "metadata": "{\"comment\": \"The simple data type name of the column, or STRUCT, or ARRAY.\"}",
         "name": "data_type",
         "type": "\"string\""
        }
       ],
       "type": "table"
      }
     },
     "output_type": "display_data"
    }
   ],
   "source": [
    "%sql\n",
    "SELECT column_name, data_type\n",
    "FROM nyc_taxi.information_schema.columns\n",
    "WHERE table_name = 'bronze_data'\n",
    "  AND table_schema = 'default';"
   ]
  },
  {
   "cell_type": "markdown",
   "metadata": {
    "application/vnd.databricks.v1+cell": {
     "cellMetadata": {
      "byteLimit": 2048000,
      "rowLimit": 10000
     },
     "inputWidgets": {},
     "nuid": "c387ce79-8b3d-4690-ba97-af1f4ac80f60",
     "showTitle": false,
     "tableResultSettingsMap": {},
     "title": ""
    }
   },
   "source": [
    "### 1. Find the total number of trips in Jan 2015 and compare with Jan–Mar 2016."
   ]
  },
  {
   "cell_type": "code",
   "execution_count": 0,
   "metadata": {
    "application/vnd.databricks.v1+cell": {
     "cellMetadata": {
      "byteLimit": 2048000,
      "implicitDf": true,
      "rowLimit": 10000
     },
     "inputWidgets": {},
     "nuid": "a01e6eb3-1199-4825-9678-d0787450cf2a",
     "showTitle": false,
     "tableResultSettingsMap": {},
     "title": ""
    }
   },
   "outputs": [
    {
     "output_type": "display_data",
     "data": {
      "text/html": [
       "<style scoped>\n",
       "  .table-result-container {\n",
       "    max-height: 300px;\n",
       "    overflow: auto;\n",
       "  }\n",
       "  table, th, td {\n",
       "    border: 1px solid black;\n",
       "    border-collapse: collapse;\n",
       "  }\n",
       "  th, td {\n",
       "    padding: 5px;\n",
       "  }\n",
       "  th {\n",
       "    text-align: left;\n",
       "  }\n",
       "</style><div class='table-result-container'><table class='table-result'><thead style='background-color: white'><tr><th>number_of_trips</th><th>year</th><th>month</th></tr></thead><tbody><tr><td>3475233</td><td>2025</td><td>1</td></tr><tr><td>3577542</td><td>2025</td><td>2</td></tr><tr><td>4145229</td><td>2025</td><td>3</td></tr><tr><td>3970568</td><td>2025</td><td>4</td></tr><tr><td>4591844</td><td>2025</td><td>5</td></tr><tr><td>4322949</td><td>2025</td><td>6</td></tr><tr><td>3898971</td><td>2025</td><td>7</td></tr><tr><td>3574074</td><td>2025</td><td>8</td></tr><tr><td>1</td><td>2025</td><td>9</td></tr></tbody></table></div>"
      ]
     },
     "metadata": {
      "application/vnd.databricks.v1+output": {
       "addedWidgets": {},
       "aggData": [],
       "aggError": "",
       "aggOverflow": false,
       "aggSchema": [],
       "aggSeriesLimitReached": false,
       "aggType": "",
       "arguments": {},
       "columnCustomDisplayInfos": {},
       "data": [
        [
         3475233,
         2025,
         1
        ],
        [
         3577542,
         2025,
         2
        ],
        [
         4145229,
         2025,
         3
        ],
        [
         3970568,
         2025,
         4
        ],
        [
         4591844,
         2025,
         5
        ],
        [
         4322949,
         2025,
         6
        ],
        [
         3898971,
         2025,
         7
        ],
        [
         3574074,
         2025,
         8
        ],
        [
         1,
         2025,
         9
        ]
       ],
       "datasetInfos": [
        {
         "name": "_sqldf",
         "schema": {
          "fields": [
           {
            "metadata": {},
            "name": "number_of_trips",
            "nullable": false,
            "type": "long"
           },
           {
            "metadata": {},
            "name": "year",
            "nullable": true,
            "type": "integer"
           },
           {
            "metadata": {},
            "name": "month",
            "nullable": true,
            "type": "integer"
           }
          ],
          "type": "struct"
         },
         "tableIdentifier": null,
         "typeStr": "pyspark.sql.connect.dataframe.DataFrame"
        }
       ],
       "dbfsResultPath": null,
       "isJsonSchema": true,
       "metadata": {
        "createTempViewForImplicitDf": true,
        "dataframeName": "_sqldf",
        "executionCount": 3
       },
       "overflow": false,
       "plotOptions": {
        "customPlotOptions": {},
        "displayType": "table",
        "pivotAggregation": null,
        "pivotColumns": null,
        "xColumns": null,
        "yColumns": null
       },
       "removedWidgets": [],
       "schema": [
        {
         "metadata": "{}",
         "name": "number_of_trips",
         "type": "\"long\""
        },
        {
         "metadata": "{}",
         "name": "year",
         "type": "\"integer\""
        },
        {
         "metadata": "{}",
         "name": "month",
         "type": "\"integer\""
        }
       ],
       "type": "table"
      }
     },
     "output_type": "display_data"
    }
   ],
   "source": [
    "%sql\n",
    "select count(*) as number_of_trips,year(tpep_pickup_datetime) as year,month(tpep_pickup_datetime) as month from nyc_taxi.default.silver_data group by year,month order by year,month"
   ]
  },
  {
   "cell_type": "markdown",
   "metadata": {
    "application/vnd.databricks.v1+cell": {
     "cellMetadata": {
      "byteLimit": 2048000,
      "rowLimit": 10000
     },
     "inputWidgets": {},
     "nuid": "eb43c91e-6ca5-4a2e-a81a-84d15afff1d1",
     "showTitle": false,
     "tableResultSettingsMap": {},
     "title": ""
    }
   },
   "source": [
    "### 2. Calculate the average trip distance and average fare amount."
   ]
  },
  {
   "cell_type": "code",
   "execution_count": 0,
   "metadata": {
    "application/vnd.databricks.v1+cell": {
     "cellMetadata": {
      "byteLimit": 2048000,
      "implicitDf": true,
      "rowLimit": 10000
     },
     "inputWidgets": {},
     "nuid": "26c9fea7-c95e-4d02-8bda-1a3a8d1c4afd",
     "showTitle": false,
     "tableResultSettingsMap": {},
     "title": ""
    }
   },
   "outputs": [
    {
     "output_type": "display_data",
     "data": {
      "text/html": [
       "<style scoped>\n",
       "  .table-result-container {\n",
       "    max-height: 300px;\n",
       "    overflow: auto;\n",
       "  }\n",
       "  table, th, td {\n",
       "    border: 1px solid black;\n",
       "    border-collapse: collapse;\n",
       "  }\n",
       "  th, td {\n",
       "    padding: 5px;\n",
       "  }\n",
       "  th {\n",
       "    text-align: left;\n",
       "  }\n",
       "</style><div class='table-result-container'><table class='table-result'><thead style='background-color: white'><tr><th>average_trip_distance</th><th>average_fare_amount</th></tr></thead><tbody><tr><td>6.89 miles</td><td>$17.99</td></tr></tbody></table></div>"
      ]
     },
     "metadata": {
      "application/vnd.databricks.v1+output": {
       "addedWidgets": {},
       "aggData": [],
       "aggError": "",
       "aggOverflow": false,
       "aggSchema": [],
       "aggSeriesLimitReached": false,
       "aggType": "",
       "arguments": {},
       "columnCustomDisplayInfos": {},
       "data": [
        [
         "6.89 miles",
         "$17.99"
        ]
       ],
       "datasetInfos": [
        {
         "name": "_sqldf",
         "schema": {
          "fields": [
           {
            "metadata": {},
            "name": "average_trip_distance",
            "nullable": true,
            "type": "string"
           },
           {
            "metadata": {},
            "name": "average_fare_amount",
            "nullable": true,
            "type": "string"
           }
          ],
          "type": "struct"
         },
         "tableIdentifier": null,
         "typeStr": "pyspark.sql.connect.dataframe.DataFrame"
        }
       ],
       "dbfsResultPath": null,
       "isJsonSchema": true,
       "metadata": {
        "createTempViewForImplicitDf": true,
        "dataframeName": "_sqldf",
        "executionCount": 4
       },
       "overflow": false,
       "plotOptions": {
        "customPlotOptions": {},
        "displayType": "table",
        "pivotAggregation": null,
        "pivotColumns": null,
        "xColumns": null,
        "yColumns": null
       },
       "removedWidgets": [],
       "schema": [
        {
         "metadata": "{}",
         "name": "average_trip_distance",
         "type": "\"string\""
        },
        {
         "metadata": "{}",
         "name": "average_fare_amount",
         "type": "\"string\""
        }
       ],
       "type": "table"
      }
     },
     "output_type": "display_data"
    }
   ],
   "source": [
    "%sql\n",
    "select concat(round(avg(trip_distance),2),\" miles\") as average_trip_distance,concat(\"$\",round(avg(fare_amount),2)) as average_fare_amount from nyc_taxi.default.silver_data;"
   ]
  },
  {
   "cell_type": "markdown",
   "metadata": {
    "application/vnd.databricks.v1+cell": {
     "cellMetadata": {
      "byteLimit": 2048000,
      "rowLimit": 10000
     },
     "inputWidgets": {},
     "nuid": "4727824d-8486-4578-84e0-ba1c50f796ea",
     "showTitle": false,
     "tableResultSettingsMap": {},
     "title": ""
    }
   },
   "source": [
    "### 3.Find the busiest pickup hour of the day."
   ]
  },
  {
   "cell_type": "code",
   "execution_count": 0,
   "metadata": {
    "application/vnd.databricks.v1+cell": {
     "cellMetadata": {
      "byteLimit": 2048000,
      "implicitDf": true,
      "rowLimit": 10000
     },
     "inputWidgets": {},
     "nuid": "83efba98-4c57-4a0c-94bf-6d0816638f7c",
     "showTitle": false,
     "tableResultSettingsMap": {},
     "title": ""
    }
   },
   "outputs": [
    {
     "output_type": "display_data",
     "data": {
      "text/html": [
       "<style scoped>\n",
       "  .table-result-container {\n",
       "    max-height: 300px;\n",
       "    overflow: auto;\n",
       "  }\n",
       "  table, th, td {\n",
       "    border: 1px solid black;\n",
       "    border-collapse: collapse;\n",
       "  }\n",
       "  th, td {\n",
       "    padding: 5px;\n",
       "  }\n",
       "  th {\n",
       "    text-align: left;\n",
       "  }\n",
       "</style><div class='table-result-container'><table class='table-result'><thead style='background-color: white'><tr><th>Busiest_hour</th><th>number_of_trips</th></tr></thead><tbody><tr><td>18</td><td>2277974</td></tr></tbody></table></div>"
      ]
     },
     "metadata": {
      "application/vnd.databricks.v1+output": {
       "addedWidgets": {},
       "aggData": [],
       "aggError": "",
       "aggOverflow": false,
       "aggSchema": [],
       "aggSeriesLimitReached": false,
       "aggType": "",
       "arguments": {},
       "columnCustomDisplayInfos": {},
       "data": [
        [
         18,
         2277974
        ]
       ],
       "datasetInfos": [
        {
         "name": "_sqldf",
         "schema": {
          "fields": [
           {
            "metadata": {},
            "name": "Busiest_hour",
            "nullable": true,
            "type": "integer"
           },
           {
            "metadata": {},
            "name": "number_of_trips",
            "nullable": false,
            "type": "long"
           }
          ],
          "type": "struct"
         },
         "tableIdentifier": null,
         "typeStr": "pyspark.sql.connect.dataframe.DataFrame"
        }
       ],
       "dbfsResultPath": null,
       "isJsonSchema": true,
       "metadata": {
        "createTempViewForImplicitDf": true,
        "dataframeName": "_sqldf",
        "executionCount": 5
       },
       "overflow": false,
       "plotOptions": {
        "customPlotOptions": {},
        "displayType": "table",
        "pivotAggregation": null,
        "pivotColumns": null,
        "xColumns": null,
        "yColumns": null
       },
       "removedWidgets": [],
       "schema": [
        {
         "metadata": "{}",
         "name": "Busiest_hour",
         "type": "\"integer\""
        },
        {
         "metadata": "{}",
         "name": "number_of_trips",
         "type": "\"long\""
        }
       ],
       "type": "table"
      }
     },
     "output_type": "display_data"
    }
   ],
   "source": [
    "%sql\n",
    "select hour(tpep_pickup_datetime) as Busiest_hour,count(*) as number_of_trips from nyc_taxi.default.silver_data group by Busiest_hour order by number_of_trips desc limit 1"
   ]
  },
  {
   "cell_type": "markdown",
   "metadata": {
    "application/vnd.databricks.v1+cell": {
     "cellMetadata": {
      "byteLimit": 2048000,
      "rowLimit": 10000
     },
     "inputWidgets": {},
     "nuid": "857c16dd-7606-442c-bf00-4135d2b7b747",
     "showTitle": false,
     "tableResultSettingsMap": {},
     "title": ""
    }
   },
   "source": [
    "### 4. Calculate the total revenue per month"
   ]
  },
  {
   "cell_type": "code",
   "execution_count": 0,
   "metadata": {
    "application/vnd.databricks.v1+cell": {
     "cellMetadata": {
      "byteLimit": 2048000,
      "implicitDf": true,
      "rowLimit": 10000
     },
     "inputWidgets": {},
     "nuid": "aa8424cc-19e8-4c4c-a91c-133d6140ac48",
     "showTitle": false,
     "tableResultSettingsMap": {},
     "title": ""
    }
   },
   "outputs": [
    {
     "output_type": "display_data",
     "data": {
      "text/html": [
       "<style scoped>\n",
       "  .table-result-container {\n",
       "    max-height: 300px;\n",
       "    overflow: auto;\n",
       "  }\n",
       "  table, th, td {\n",
       "    border: 1px solid black;\n",
       "    border-collapse: collapse;\n",
       "  }\n",
       "  th, td {\n",
       "    padding: 5px;\n",
       "  }\n",
       "  th {\n",
       "    text-align: left;\n",
       "  }\n",
       "</style><div class='table-result-container'><table class='table-result'><thead style='background-color: white'><tr><th>year</th><th>month</th><th>total_revenue</th></tr></thead><tbody><tr><td>2025</td><td>1</td><td>9.066274142002532E7</td></tr><tr><td>2025</td><td>2</td><td>9.10447134600153E7</td></tr><tr><td>2025</td><td>3</td><td>1.1081291951003332E8</td></tr><tr><td>2025</td><td>4</td><td>1.0770823574001488E8</td></tr><tr><td>2025</td><td>5</td><td>1.2594822167000735E8</td></tr><tr><td>2025</td><td>6</td><td>1.206329495000672E8</td></tr><tr><td>2025</td><td>7</td><td>1.0696111712005189E8</td></tr><tr><td>2025</td><td>8</td><td>9.677493851003136E7</td></tr><tr><td>2025</td><td>9</td><td>25.62</td></tr></tbody></table></div>"
      ]
     },
     "metadata": {
      "application/vnd.databricks.v1+output": {
       "addedWidgets": {},
       "aggData": [],
       "aggError": "",
       "aggOverflow": false,
       "aggSchema": [],
       "aggSeriesLimitReached": false,
       "aggType": "",
       "arguments": {},
       "columnCustomDisplayInfos": {},
       "data": [
        [
         2025,
         1,
         9.066274142002532E7
        ],
        [
         2025,
         2,
         9.10447134600153E7
        ],
        [
         2025,
         3,
         1.1081291951003332E8
        ],
        [
         2025,
         4,
         1.0770823574001488E8
        ],
        [
         2025,
         5,
         1.2594822167000735E8
        ],
        [
         2025,
         6,
         1.206329495000672E8
        ],
        [
         2025,
         7,
         1.0696111712005189E8
        ],
        [
         2025,
         8,
         9.677493851003136E7
        ],
        [
         2025,
         9,
         25.62
        ]
       ],
       "datasetInfos": [
        {
         "name": "_sqldf",
         "schema": {
          "fields": [
           {
            "metadata": {},
            "name": "year",
            "nullable": true,
            "type": "integer"
           },
           {
            "metadata": {},
            "name": "month",
            "nullable": true,
            "type": "integer"
           },
           {
            "metadata": {},
            "name": "total_revenue",
            "nullable": true,
            "type": "double"
           }
          ],
          "type": "struct"
         },
         "tableIdentifier": null,
         "typeStr": "pyspark.sql.connect.dataframe.DataFrame"
        }
       ],
       "dbfsResultPath": null,
       "isJsonSchema": true,
       "metadata": {
        "createTempViewForImplicitDf": true,
        "dataframeName": "_sqldf",
        "executionCount": 6
       },
       "overflow": false,
       "plotOptions": {
        "customPlotOptions": {},
        "displayType": "table",
        "pivotAggregation": null,
        "pivotColumns": null,
        "xColumns": null,
        "yColumns": null
       },
       "removedWidgets": [],
       "schema": [
        {
         "metadata": "{}",
         "name": "year",
         "type": "\"integer\""
        },
        {
         "metadata": "{}",
         "name": "month",
         "type": "\"integer\""
        },
        {
         "metadata": "{}",
         "name": "total_revenue",
         "type": "\"double\""
        }
       ],
       "type": "table"
      }
     },
     "output_type": "display_data"
    }
   ],
   "source": [
    "%sql\n",
    "select year(tpep_pickup_datetime) as year,month(tpep_pickup_datetime) as month,sum(total_amount) as total_revenue from nyc_taxi.default.silver_data where total_amount > 0 group by year,month order by year,month"
   ]
  },
  {
   "cell_type": "markdown",
   "metadata": {
    "application/vnd.databricks.v1+cell": {
     "cellMetadata": {
      "byteLimit": 2048000,
      "rowLimit": 10000
     },
     "inputWidgets": {},
     "nuid": "c05fbbba-f270-430b-bbc8-3bf5f184042a",
     "showTitle": false,
     "tableResultSettingsMap": {},
     "title": ""
    }
   },
   "source": [
    "### 5. Find the top 5 days with highest total revenue."
   ]
  },
  {
   "cell_type": "code",
   "execution_count": 0,
   "metadata": {
    "application/vnd.databricks.v1+cell": {
     "cellMetadata": {
      "byteLimit": 2048000,
      "implicitDf": true,
      "rowLimit": 10000
     },
     "inputWidgets": {},
     "nuid": "b9a8c799-0426-4525-9fba-10699f3f37a8",
     "showTitle": false,
     "tableResultSettingsMap": {
      "0": {
       "dataGridStateBlob": "{\"version\":1,\"tableState\":{\"columnPinning\":{\"left\":[\"#row_number#\"],\"right\":[]},\"columnSizing\":{},\"columnVisibility\":{}},\"settings\":{\"columns\":{\"total_revenue\":{\"format\":{\"preset\":\"number-preset-currency\",\"config\":{\"type\":\"number-currency\",\"abbreviation\":\"none\",\"decimalPlaces\":{\"type\":\"max\",\"places\":2},\"currencyCode\":\"USD\",\"hideGroupSeparator\":false}}}}},\"syncTimestamp\":1759329987424}",
       "filterBlob": null,
       "queryPlanFiltersBlob": null,
       "tableResultIndex": 0
      }
     },
     "title": ""
    }
   },
   "outputs": [
    {
     "output_type": "display_data",
     "data": {
      "text/html": [
       "<style scoped>\n",
       "  .table-result-container {\n",
       "    max-height: 300px;\n",
       "    overflow: auto;\n",
       "  }\n",
       "  table, th, td {\n",
       "    border: 1px solid black;\n",
       "    border-collapse: collapse;\n",
       "  }\n",
       "  th, td {\n",
       "    padding: 5px;\n",
       "  }\n",
       "  th {\n",
       "    text-align: left;\n",
       "  }\n",
       "</style><div class='table-result-container'><table class='table-result'><thead style='background-color: white'><tr><th>date</th><th>total_revenue</th></tr></thead><tbody><tr><td>2025-06-05</td><td>4983721.3</td></tr><tr><td>2025-05-15</td><td>4906815.0</td></tr><tr><td>2025-05-17</td><td>4887331.9</td></tr><tr><td>2025-05-16</td><td>4810421.1</td></tr><tr><td>2025-05-14</td><td>4750108.4</td></tr></tbody></table></div>"
      ]
     },
     "metadata": {
      "application/vnd.databricks.v1+output": {
       "addedWidgets": {},
       "aggData": [],
       "aggError": "",
       "aggOverflow": false,
       "aggSchema": [],
       "aggSeriesLimitReached": false,
       "aggType": "",
       "arguments": {},
       "columnCustomDisplayInfos": {},
       "data": [
        [
         "2025-06-05",
         4983721.3
        ],
        [
         "2025-05-15",
         4906815.0
        ],
        [
         "2025-05-17",
         4887331.9
        ],
        [
         "2025-05-16",
         4810421.1
        ],
        [
         "2025-05-14",
         4750108.4
        ]
       ],
       "datasetInfos": [
        {
         "name": "_sqldf",
         "schema": {
          "fields": [
           {
            "metadata": {},
            "name": "date",
            "nullable": true,
            "type": "date"
           },
           {
            "metadata": {},
            "name": "total_revenue",
            "nullable": true,
            "type": "double"
           }
          ],
          "type": "struct"
         },
         "tableIdentifier": null,
         "typeStr": "pyspark.sql.connect.dataframe.DataFrame"
        }
       ],
       "dbfsResultPath": null,
       "isJsonSchema": true,
       "metadata": {
        "createTempViewForImplicitDf": true,
        "dataframeName": "_sqldf",
        "executionCount": 7
       },
       "overflow": false,
       "plotOptions": {
        "customPlotOptions": {},
        "displayType": "table",
        "pivotAggregation": null,
        "pivotColumns": null,
        "xColumns": null,
        "yColumns": null
       },
       "removedWidgets": [],
       "schema": [
        {
         "metadata": "{}",
         "name": "date",
         "type": "\"date\""
        },
        {
         "metadata": "{}",
         "name": "total_revenue",
         "type": "\"double\""
        }
       ],
       "type": "table"
      }
     },
     "output_type": "display_data"
    }
   ],
   "source": [
    "%sql\n",
    "select date(tpep_pickup_datetime) as date,round(sum(total_amount),1) as total_revenue from nyc_taxi.default.silver_data where total_amount>0 group by date order by total_revenue desc limit 5"
   ]
  },
  {
   "cell_type": "markdown",
   "metadata": {
    "application/vnd.databricks.v1+cell": {
     "cellMetadata": {
      "byteLimit": 2048000,
      "rowLimit": 10000
     },
     "inputWidgets": {},
     "nuid": "5c9e6ee3-47ab-4891-b214-8e1730f1d333",
     "showTitle": false,
     "tableResultSettingsMap": {},
     "title": ""
    }
   },
   "source": [
    "### 6. Top 10 most common pick ups"
   ]
  },
  {
   "cell_type": "code",
   "execution_count": 0,
   "metadata": {
    "application/vnd.databricks.v1+cell": {
     "cellMetadata": {
      "byteLimit": 2048000,
      "implicitDf": true,
      "rowLimit": 10000
     },
     "inputWidgets": {},
     "nuid": "b7fd6eb5-2fef-45b3-8d2a-1298c829be0f",
     "showTitle": false,
     "tableResultSettingsMap": {},
     "title": ""
    }
   },
   "outputs": [
    {
     "output_type": "display_data",
     "data": {
      "text/html": [
       "<style scoped>\n",
       "  .table-result-container {\n",
       "    max-height: 300px;\n",
       "    overflow: auto;\n",
       "  }\n",
       "  table, th, td {\n",
       "    border: 1px solid black;\n",
       "    border-collapse: collapse;\n",
       "  }\n",
       "  th, td {\n",
       "    padding: 5px;\n",
       "  }\n",
       "  th {\n",
       "    text-align: left;\n",
       "  }\n",
       "</style><div class='table-result-container'><table class='table-result'><thead style='background-color: white'><tr><th>PULocationID</th><th>total_trips</th></tr></thead><tbody><tr><td>161</td><td>1383279</td></tr><tr><td>132</td><td>1351013</td></tr><tr><td>237</td><td>1340920</td></tr><tr><td>236</td><td>1184847</td></tr><tr><td>230</td><td>1013928</td></tr><tr><td>186</td><td>1004135</td></tr><tr><td>162</td><td>982329</td></tr><tr><td>142</td><td>884218</td></tr><tr><td>170</td><td>850805</td></tr><tr><td>234</td><td>843038</td></tr></tbody></table></div>"
      ]
     },
     "metadata": {
      "application/vnd.databricks.v1+output": {
       "addedWidgets": {},
       "aggData": [],
       "aggError": "",
       "aggOverflow": false,
       "aggSchema": [],
       "aggSeriesLimitReached": false,
       "aggType": "",
       "arguments": {},
       "columnCustomDisplayInfos": {},
       "data": [
        [
         161,
         1383279
        ],
        [
         132,
         1351013
        ],
        [
         237,
         1340920
        ],
        [
         236,
         1184847
        ],
        [
         230,
         1013928
        ],
        [
         186,
         1004135
        ],
        [
         162,
         982329
        ],
        [
         142,
         884218
        ],
        [
         170,
         850805
        ],
        [
         234,
         843038
        ]
       ],
       "datasetInfos": [
        {
         "name": "_sqldf",
         "schema": {
          "fields": [
           {
            "metadata": {},
            "name": "PULocationID",
            "nullable": true,
            "type": "integer"
           },
           {
            "metadata": {},
            "name": "total_trips",
            "nullable": false,
            "type": "long"
           }
          ],
          "type": "struct"
         },
         "tableIdentifier": null,
         "typeStr": "pyspark.sql.connect.dataframe.DataFrame"
        }
       ],
       "dbfsResultPath": null,
       "isJsonSchema": true,
       "metadata": {
        "createTempViewForImplicitDf": true,
        "dataframeName": "_sqldf",
        "executionCount": 8
       },
       "overflow": false,
       "plotOptions": {
        "customPlotOptions": {},
        "displayType": "table",
        "pivotAggregation": null,
        "pivotColumns": null,
        "xColumns": null,
        "yColumns": null
       },
       "removedWidgets": [],
       "schema": [
        {
         "metadata": "{}",
         "name": "PULocationID",
         "type": "\"integer\""
        },
        {
         "metadata": "{}",
         "name": "total_trips",
         "type": "\"long\""
        }
       ],
       "type": "table"
      }
     },
     "output_type": "display_data"
    }
   ],
   "source": [
    "%sql\n",
    "select PULocationID,count(*) as total_trips from nyc_taxi.default.silver_data group by PULocationID order by total_trips desc limit 10"
   ]
  },
  {
   "cell_type": "markdown",
   "metadata": {
    "application/vnd.databricks.v1+cell": {
     "cellMetadata": {
      "byteLimit": 2048000,
      "rowLimit": 10000
     },
     "inputWidgets": {},
     "nuid": "9a393b3e-209d-4cd6-82a9-0137cb7f9d2d",
     "showTitle": false,
     "tableResultSettingsMap": {},
     "title": ""
    }
   },
   "source": [
    "### 7. Top 10 most common drops"
   ]
  },
  {
   "cell_type": "code",
   "execution_count": 0,
   "metadata": {
    "application/vnd.databricks.v1+cell": {
     "cellMetadata": {
      "byteLimit": 2048000,
      "implicitDf": true,
      "rowLimit": 10000
     },
     "inputWidgets": {},
     "nuid": "aa95e956-d889-4683-8994-cac13fbe8f7f",
     "showTitle": false,
     "tableResultSettingsMap": {},
     "title": ""
    }
   },
   "outputs": [
    {
     "output_type": "display_data",
     "data": {
      "text/html": [
       "<style scoped>\n",
       "  .table-result-container {\n",
       "    max-height: 300px;\n",
       "    overflow: auto;\n",
       "  }\n",
       "  table, th, td {\n",
       "    border: 1px solid black;\n",
       "    border-collapse: collapse;\n",
       "  }\n",
       "  th, td {\n",
       "    padding: 5px;\n",
       "  }\n",
       "  th {\n",
       "    text-align: left;\n",
       "  }\n",
       "</style><div class='table-result-container'><table class='table-result'><thead style='background-color: white'><tr><th>DOLocationID</th><th>total_trips</th></tr></thead><tbody><tr><td>236</td><td>1236909</td></tr><tr><td>237</td><td>1218091</td></tr><tr><td>161</td><td>1130272</td></tr><tr><td>230</td><td>968268</td></tr><tr><td>170</td><td>884650</td></tr><tr><td>162</td><td>840513</td></tr><tr><td>68</td><td>811282</td></tr><tr><td>142</td><td>788758</td></tr><tr><td>239</td><td>785878</td></tr><tr><td>234</td><td>748807</td></tr></tbody></table></div>"
      ]
     },
     "metadata": {
      "application/vnd.databricks.v1+output": {
       "addedWidgets": {},
       "aggData": [],
       "aggError": "",
       "aggOverflow": false,
       "aggSchema": [],
       "aggSeriesLimitReached": false,
       "aggType": "",
       "arguments": {},
       "columnCustomDisplayInfos": {},
       "data": [
        [
         236,
         1236909
        ],
        [
         237,
         1218091
        ],
        [
         161,
         1130272
        ],
        [
         230,
         968268
        ],
        [
         170,
         884650
        ],
        [
         162,
         840513
        ],
        [
         68,
         811282
        ],
        [
         142,
         788758
        ],
        [
         239,
         785878
        ],
        [
         234,
         748807
        ]
       ],
       "datasetInfos": [
        {
         "name": "_sqldf",
         "schema": {
          "fields": [
           {
            "metadata": {},
            "name": "DOLocationID",
            "nullable": true,
            "type": "integer"
           },
           {
            "metadata": {},
            "name": "total_trips",
            "nullable": false,
            "type": "long"
           }
          ],
          "type": "struct"
         },
         "tableIdentifier": null,
         "typeStr": "pyspark.sql.connect.dataframe.DataFrame"
        }
       ],
       "dbfsResultPath": null,
       "isJsonSchema": true,
       "metadata": {
        "createTempViewForImplicitDf": true,
        "dataframeName": "_sqldf",
        "executionCount": 9
       },
       "overflow": false,
       "plotOptions": {
        "customPlotOptions": {},
        "displayType": "table",
        "pivotAggregation": null,
        "pivotColumns": null,
        "xColumns": null,
        "yColumns": null
       },
       "removedWidgets": [],
       "schema": [
        {
         "metadata": "{}",
         "name": "DOLocationID",
         "type": "\"integer\""
        },
        {
         "metadata": "{}",
         "name": "total_trips",
         "type": "\"long\""
        }
       ],
       "type": "table"
      }
     },
     "output_type": "display_data"
    }
   ],
   "source": [
    "%sql\n",
    "select DOLocationID,count(*) as total_trips from nyc_taxi.default.silver_data group by DOLocationID order by total_trips desc limit 10"
   ]
  },
  {
   "cell_type": "markdown",
   "metadata": {
    "application/vnd.databricks.v1+cell": {
     "cellMetadata": {
      "byteLimit": 2048000,
      "rowLimit": 10000
     },
     "inputWidgets": {},
     "nuid": "168d73ac-73f3-412f-b1b2-9c2f6f470056",
     "showTitle": false,
     "tableResultSettingsMap": {},
     "title": ""
    }
   },
   "source": [
    "### 8. Find the longest trip (by distance) and highest fare trip."
   ]
  },
  {
   "cell_type": "code",
   "execution_count": 0,
   "metadata": {
    "application/vnd.databricks.v1+cell": {
     "cellMetadata": {
      "byteLimit": 2048000,
      "implicitDf": true,
      "rowLimit": 10000
     },
     "inputWidgets": {},
     "nuid": "3b2fb4ed-504a-4cf2-beb3-b980fa793a3d",
     "showTitle": false,
     "tableResultSettingsMap": {
      "0": {
       "dataGridStateBlob": "{\"version\":1,\"tableState\":{\"columnPinning\":{\"left\":[\"#row_number#\"],\"right\":[]},\"columnSizing\":{},\"columnVisibility\":{}},\"settings\":{\"columns\":{}},\"syncTimestamp\":1759332311557}",
       "filterBlob": null,
       "queryPlanFiltersBlob": null,
       "tableResultIndex": 0
      }
     },
     "title": ""
    }
   },
   "outputs": [
    {
     "output_type": "display_data",
     "data": {
      "text/html": [
       "<style scoped>\n",
       "  .table-result-container {\n",
       "    max-height: 300px;\n",
       "    overflow: auto;\n",
       "  }\n",
       "  table, th, td {\n",
       "    border: 1px solid black;\n",
       "    border-collapse: collapse;\n",
       "  }\n",
       "  th, td {\n",
       "    padding: 5px;\n",
       "  }\n",
       "  th {\n",
       "    text-align: left;\n",
       "  }\n",
       "</style><div class='table-result-container'><table class='table-result'><thead style='background-color: white'><tr><th>VendorID</th><th>tpep_pickup_datetime</th><th>tpep_dropoff_datetime</th><th>passenger_count</th><th>trip_distance</th><th>RateCodeID</th><th>store_and_fwd_flag</th><th>PULocationID</th><th>DOLocationID</th><th>payment_type</th><th>fare_amount</th><th>extra</th><th>mta_tax</th><th>tip_amount</th><th>tolls_amount</th><th>improvement_surcharge</th><th>total_amount</th><th>congestion_surcharge</th><th>Airport_fee</th><th>cbd_congestion_fee</th></tr></thead><tbody><tr><td>1</td><td>2025-01-20T12:07:18.000Z</td><td>2025-01-20T12:12:42.000Z</td><td>1</td><td>1.6</td><td>1</td><td>N</td><td>138</td><td>8</td><td>4</td><td>863372.12</td><td>6.75</td><td>0.5</td><td>0.0</td><td>0.0</td><td>1.0</td><td>863380.37</td><td>0.0</td><td>1.75</td><td>0.0</td></tr></tbody></table></div>"
      ]
     },
     "metadata": {
      "application/vnd.databricks.v1+output": {
       "addedWidgets": {},
       "aggData": [],
       "aggError": "",
       "aggOverflow": false,
       "aggSchema": [],
       "aggSeriesLimitReached": false,
       "aggType": "",
       "arguments": {},
       "columnCustomDisplayInfos": {},
       "data": [
        [
         1,
         "2025-01-20T12:07:18.000Z",
         "2025-01-20T12:12:42.000Z",
         1,
         1.6,
         1,
         "N",
         138,
         8,
         4,
         863372.12,
         6.75,
         0.5,
         0.0,
         0.0,
         1.0,
         863380.37,
         0.0,
         1.75,
         0.0
        ]
       ],
       "datasetInfos": [
        {
         "name": "_sqldf",
         "schema": {
          "fields": [
           {
            "metadata": {},
            "name": "VendorID",
            "nullable": true,
            "type": "integer"
           },
           {
            "metadata": {},
            "name": "tpep_pickup_datetime",
            "nullable": true,
            "type": "timestamp"
           },
           {
            "metadata": {},
            "name": "tpep_dropoff_datetime",
            "nullable": true,
            "type": "timestamp"
           },
           {
            "metadata": {},
            "name": "passenger_count",
            "nullable": true,
            "type": "long"
           },
           {
            "metadata": {},
            "name": "trip_distance",
            "nullable": true,
            "type": "double"
           },
           {
            "metadata": {},
            "name": "RateCodeID",
            "nullable": true,
            "type": "long"
           },
           {
            "metadata": {},
            "name": "store_and_fwd_flag",
            "nullable": true,
            "type": "string"
           },
           {
            "metadata": {},
            "name": "PULocationID",
            "nullable": true,
            "type": "integer"
           },
           {
            "metadata": {},
            "name": "DOLocationID",
            "nullable": true,
            "type": "integer"
           },
           {
            "metadata": {},
            "name": "payment_type",
            "nullable": true,
            "type": "long"
           },
           {
            "metadata": {},
            "name": "fare_amount",
            "nullable": true,
            "type": "double"
           },
           {
            "metadata": {},
            "name": "extra",
            "nullable": true,
            "type": "double"
           },
           {
            "metadata": {},
            "name": "mta_tax",
            "nullable": true,
            "type": "double"
           },
           {
            "metadata": {},
            "name": "tip_amount",
            "nullable": true,
            "type": "double"
           },
           {
            "metadata": {},
            "name": "tolls_amount",
            "nullable": true,
            "type": "double"
           },
           {
            "metadata": {},
            "name": "improvement_surcharge",
            "nullable": true,
            "type": "double"
           },
           {
            "metadata": {},
            "name": "total_amount",
            "nullable": true,
            "type": "double"
           },
           {
            "metadata": {},
            "name": "congestion_surcharge",
            "nullable": true,
            "type": "double"
           },
           {
            "metadata": {},
            "name": "Airport_fee",
            "nullable": true,
            "type": "double"
           },
           {
            "metadata": {},
            "name": "cbd_congestion_fee",
            "nullable": true,
            "type": "double"
           }
          ],
          "type": "struct"
         },
         "tableIdentifier": null,
         "typeStr": "pyspark.sql.connect.dataframe.DataFrame"
        }
       ],
       "dbfsResultPath": null,
       "isJsonSchema": true,
       "metadata": {
        "createTempViewForImplicitDf": true,
        "dataframeName": "_sqldf",
        "executionCount": 10
       },
       "overflow": false,
       "plotOptions": {
        "customPlotOptions": {},
        "displayType": "table",
        "pivotAggregation": null,
        "pivotColumns": null,
        "xColumns": null,
        "yColumns": null
       },
       "removedWidgets": [],
       "schema": [
        {
         "metadata": "{}",
         "name": "VendorID",
         "type": "\"integer\""
        },
        {
         "metadata": "{}",
         "name": "tpep_pickup_datetime",
         "type": "\"timestamp\""
        },
        {
         "metadata": "{}",
         "name": "tpep_dropoff_datetime",
         "type": "\"timestamp\""
        },
        {
         "metadata": "{}",
         "name": "passenger_count",
         "type": "\"long\""
        },
        {
         "metadata": "{}",
         "name": "trip_distance",
         "type": "\"double\""
        },
        {
         "metadata": "{}",
         "name": "RateCodeID",
         "type": "\"long\""
        },
        {
         "metadata": "{}",
         "name": "store_and_fwd_flag",
         "type": "\"string\""
        },
        {
         "metadata": "{}",
         "name": "PULocationID",
         "type": "\"integer\""
        },
        {
         "metadata": "{}",
         "name": "DOLocationID",
         "type": "\"integer\""
        },
        {
         "metadata": "{}",
         "name": "payment_type",
         "type": "\"long\""
        },
        {
         "metadata": "{}",
         "name": "fare_amount",
         "type": "\"double\""
        },
        {
         "metadata": "{}",
         "name": "extra",
         "type": "\"double\""
        },
        {
         "metadata": "{}",
         "name": "mta_tax",
         "type": "\"double\""
        },
        {
         "metadata": "{}",
         "name": "tip_amount",
         "type": "\"double\""
        },
        {
         "metadata": "{}",
         "name": "tolls_amount",
         "type": "\"double\""
        },
        {
         "metadata": "{}",
         "name": "improvement_surcharge",
         "type": "\"double\""
        },
        {
         "metadata": "{}",
         "name": "total_amount",
         "type": "\"double\""
        },
        {
         "metadata": "{}",
         "name": "congestion_surcharge",
         "type": "\"double\""
        },
        {
         "metadata": "{}",
         "name": "Airport_fee",
         "type": "\"double\""
        },
        {
         "metadata": "{}",
         "name": "cbd_congestion_fee",
         "type": "\"double\""
        }
       ],
       "type": "table"
      }
     },
     "output_type": "display_data"
    }
   ],
   "source": [
    "%sql\n",
    "-- Longest Trip Details\n",
    "SELECT *\n",
    "FROM nyc_taxi.default.silver_data\n",
    "WHERE trip_distance = (\n",
    "    SELECT MAX(trip_distance) FROM nyc_taxi.default.silver_data\n",
    ");\n",
    "\n",
    "-- Highest Fare Trip Details\n",
    "SELECT *\n",
    "FROM nyc_taxi.default.silver_data\n",
    "WHERE fare_amount = (\n",
    "    SELECT MAX(fare_amount) FROM nyc_taxi.default.silver_data\n",
    ");\n"
   ]
  },
  {
   "cell_type": "markdown",
   "metadata": {
    "application/vnd.databricks.v1+cell": {
     "cellMetadata": {
      "byteLimit": 2048000,
      "rowLimit": 10000
     },
     "inputWidgets": {},
     "nuid": "04b58796-7642-4f13-b3a7-3ea264c7711d",
     "showTitle": false,
     "tableResultSettingsMap": {},
     "title": ""
    }
   },
   "source": [
    "### 9. Calculate the percentage of trips with passenger_count > 3."
   ]
  },
  {
   "cell_type": "code",
   "execution_count": 0,
   "metadata": {
    "application/vnd.databricks.v1+cell": {
     "cellMetadata": {
      "byteLimit": 2048000,
      "implicitDf": true,
      "rowLimit": 10000
     },
     "inputWidgets": {},
     "nuid": "76cf7ec7-41b1-4ec9-9308-c7a685de11f5",
     "showTitle": false,
     "tableResultSettingsMap": {},
     "title": ""
    }
   },
   "outputs": [
    {
     "output_type": "display_data",
     "data": {
      "text/html": [
       "<style scoped>\n",
       "  .table-result-container {\n",
       "    max-height: 300px;\n",
       "    overflow: auto;\n",
       "  }\n",
       "  table, th, td {\n",
       "    border: 1px solid black;\n",
       "    border-collapse: collapse;\n",
       "  }\n",
       "  th, td {\n",
       "    padding: 5px;\n",
       "  }\n",
       "  th {\n",
       "    text-align: left;\n",
       "  }\n",
       "</style><div class='table-result-container'><table class='table-result'><thead style='background-color: white'><tr><th>percent</th></tr></thead><tbody><tr><td>2.37</td></tr></tbody></table></div>"
      ]
     },
     "metadata": {
      "application/vnd.databricks.v1+output": {
       "addedWidgets": {},
       "aggData": [],
       "aggError": "",
       "aggOverflow": false,
       "aggSchema": [],
       "aggSeriesLimitReached": false,
       "aggType": "",
       "arguments": {},
       "columnCustomDisplayInfos": {},
       "data": [
        [
         "2.37"
        ]
       ],
       "datasetInfos": [
        {
         "name": "_sqldf",
         "schema": {
          "fields": [
           {
            "metadata": {},
            "name": "percent",
            "nullable": true,
            "type": "decimal(27,2)"
           }
          ],
          "type": "struct"
         },
         "tableIdentifier": null,
         "typeStr": "pyspark.sql.connect.dataframe.DataFrame"
        }
       ],
       "dbfsResultPath": null,
       "isJsonSchema": true,
       "metadata": {
        "createTempViewForImplicitDf": true,
        "dataframeName": "_sqldf",
        "executionCount": 11
       },
       "overflow": false,
       "plotOptions": {
        "customPlotOptions": {},
        "displayType": "table",
        "pivotAggregation": null,
        "pivotColumns": null,
        "xColumns": null,
        "yColumns": null
       },
       "removedWidgets": [],
       "schema": [
        {
         "metadata": "{}",
         "name": "percent",
         "type": "\"decimal(27,2)\""
        }
       ],
       "type": "table"
      }
     },
     "output_type": "display_data"
    }
   ],
   "source": [
    "%sql\n",
    "select\n",
    "round(\n",
    "(count(case when passenger_count>3 then 1 end) * 100.0) / count(*) ,2) as percent\n",
    "from nyc_taxi.default.silver_data"
   ]
  },
  {
   "cell_type": "markdown",
   "metadata": {
    "application/vnd.databricks.v1+cell": {
     "cellMetadata": {
      "byteLimit": 2048000,
      "rowLimit": 10000
     },
     "inputWidgets": {},
     "nuid": "3b1f4bf6-1a15-4107-a415-17e865696f45",
     "showTitle": false,
     "tableResultSettingsMap": {},
     "title": ""
    }
   },
   "source": [
    "### 10. Identify if extra charges (MTA_tax, surcharge) significantly affect final fare."
   ]
  },
  {
   "cell_type": "code",
   "execution_count": 0,
   "metadata": {
    "application/vnd.databricks.v1+cell": {
     "cellMetadata": {
      "byteLimit": 2048000,
      "implicitDf": true,
      "rowLimit": 10000
     },
     "inputWidgets": {},
     "nuid": "685e7df5-0c79-4c7d-b156-575429d1bf7c",
     "showTitle": false,
     "tableResultSettingsMap": {
      "0": {
       "dataGridStateBlob": "{\"version\":1,\"tableState\":{\"columnPinning\":{\"left\":[\"#row_number#\"],\"right\":[]},\"columnSizing\":{},\"columnVisibility\":{}},\"settings\":{\"columns\":{}},\"syncTimestamp\":1759335113883}",
       "filterBlob": null,
       "queryPlanFiltersBlob": null,
       "tableResultIndex": 0
      }
     },
     "title": ""
    }
   },
   "outputs": [
    {
     "output_type": "display_data",
     "data": {
      "text/html": [
       "<style scoped>\n",
       "  .table-result-container {\n",
       "    max-height: 300px;\n",
       "    overflow: auto;\n",
       "  }\n",
       "  table, th, td {\n",
       "    border: 1px solid black;\n",
       "    border-collapse: collapse;\n",
       "  }\n",
       "  th, td {\n",
       "    padding: 5px;\n",
       "  }\n",
       "  th {\n",
       "    text-align: left;\n",
       "  }\n",
       "</style><div class='table-result-container'><table class='table-result'><thead style='background-color: white'><tr><th>affecting</th><th>total_trips</th><th>amount</th></tr></thead><tbody><tr><td>No extra</td><td>4450</td><td>139828.40000000002</td></tr><tr><td>Extra</td><td>30936787</td><td>8.504060341502845E8</td></tr></tbody></table></div>"
      ]
     },
     "metadata": {
      "application/vnd.databricks.v1+output": {
       "addedWidgets": {},
       "aggData": [],
       "aggError": "",
       "aggOverflow": false,
       "aggSchema": [],
       "aggSeriesLimitReached": false,
       "aggType": "",
       "arguments": {},
       "columnCustomDisplayInfos": {},
       "data": [
        [
         "No extra",
         4450,
         139828.40000000002
        ],
        [
         "Extra",
         30936787,
         8.504060341502845E8
        ]
       ],
       "datasetInfos": [
        {
         "name": "_sqldf",
         "schema": {
          "fields": [
           {
            "metadata": {},
            "name": "affecting",
            "nullable": false,
            "type": "string"
           },
           {
            "metadata": {},
            "name": "total_trips",
            "nullable": false,
            "type": "long"
           },
           {
            "metadata": {},
            "name": "amount",
            "nullable": true,
            "type": "double"
           }
          ],
          "type": "struct"
         },
         "tableIdentifier": null,
         "typeStr": "pyspark.sql.connect.dataframe.DataFrame"
        }
       ],
       "dbfsResultPath": null,
       "isJsonSchema": true,
       "metadata": {
        "createTempViewForImplicitDf": true,
        "dataframeName": "_sqldf",
        "executionCount": 12
       },
       "overflow": false,
       "plotOptions": {
        "customPlotOptions": {},
        "displayType": "table",
        "pivotAggregation": null,
        "pivotColumns": null,
        "xColumns": null,
        "yColumns": null
       },
       "removedWidgets": [],
       "schema": [
        {
         "metadata": "{}",
         "name": "affecting",
         "type": "\"string\""
        },
        {
         "metadata": "{}",
         "name": "total_trips",
         "type": "\"long\""
        },
        {
         "metadata": "{}",
         "name": "amount",
         "type": "\"double\""
        }
       ],
       "type": "table"
      }
     },
     "output_type": "display_data"
    }
   ],
   "source": [
    "%sql\n",
    "select case when (extra+mta_tax+improvement_surcharge)>0 then \"Extra\" else \"No extra\" end as affecting,count(*) as total_trips,sum(total_amount) as amount from nyc_taxi.default.silver_data where total_amount>0 group by affecting;"
   ]
  }
 ],
 "metadata": {
  "application/vnd.databricks.v1+notebook": {
   "computePreferences": {
    "hardware": {
     "accelerator": null,
     "gpuPoolId": null,
     "memory": null
    }
   },
   "dashboards": [],
   "environmentMetadata": {
    "base_environment": "",
    "environment_version": "3"
   },
   "inputWidgetPreferences": null,
   "language": "python",
   "notebookMetadata": {
    "mostRecentlyExecutedCommandWithImplicitDF": {
     "commandId": 7078830072979725,
     "dataframes": [
      "_sqldf"
     ]
    },
    "pythonIndentUnit": 4
   },
   "notebookName": "analysis",
   "widgets": {}
  },
  "language_info": {
   "name": "python"
  }
 },
 "nbformat": 4,
 "nbformat_minor": 0
}