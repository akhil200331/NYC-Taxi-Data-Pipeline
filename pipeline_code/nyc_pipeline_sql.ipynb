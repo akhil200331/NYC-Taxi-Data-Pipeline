{
 "cells": [
  {
   "cell_type": "code",
   "execution_count": 0,
   "metadata": {
    "application/vnd.databricks.v1+cell": {
     "cellMetadata": {},
     "inputWidgets": {},
     "nuid": "855d0d3f-6c01-4002-96f5-2e6986d25020",
     "showTitle": false,
     "tableResultSettingsMap": {},
     "title": ""
    }
   },
   "outputs": [],
   "source": [
    "from pyspark.sql.types import StructType, StructField, StringType, IntegerType, DoubleType, TimestampType, LongType\n",
    "\n",
    "# Define schema\n",
    "yellow_taxi_schema = StructType([\n",
    "    StructField(\"VendorID\", IntegerType(), True),                  # Vendor code\n",
    "    StructField(\"tpep_pickup_datetime\", TimestampType(), True),    # Pickup timestamp\n",
    "    StructField(\"tpep_dropoff_datetime\", TimestampType(), True),   # Dropoff timestamp\n",
    "    StructField(\"passenger_count\", LongType(), True),           # Number of passengers\n",
    "    StructField(\"trip_distance\", DoubleType(), True),              # Distance in miles\n",
    "    StructField(\"RateCodeID\", LongType(), True),                # Rate code\n",
    "    StructField(\"store_and_fwd_flag\", StringType(), True),         # Y/N\n",
    "    StructField(\"PULocationID\", IntegerType(), True),          # Dropoff longitude\n",
    "    StructField(\"DOLocationID\", IntegerType(), True),           # Dropoff latitude\n",
    "    StructField(\"payment_type\", LongType(), True),              # Payment type code\n",
    "    StructField(\"fare_amount\", DoubleType(), True),                # Meter fare\n",
    "    StructField(\"extra\", DoubleType(), True),                      # Extra charges\n",
    "    StructField(\"mta_tax\", DoubleType(), True),                    # MTA tax\n",
    "    StructField(\"tip_amount\", DoubleType(), True),                 # Tip\n",
    "    StructField(\"tolls_amount\", DoubleType(), True),               # Tolls\n",
    "    StructField(\"improvement_surcharge\", DoubleType(), True),      # Improvement surcharge\n",
    "    StructField(\"total_amount\", DoubleType(), True)    ,            # Total fare charged\n",
    "    StructField(\"congestion_surcharge\", DoubleType(), True)  ,              # Congestion_Surcharge\n",
    "    StructField(\"Airport_fee\", DoubleType(), True)    ,            # Airport_fee\n",
    "    StructField(\"cbd_congestion_fee\", DoubleType(), True)              # Cbd_Congestion_fee\n",
    "])"
   ]
  },
  {
   "cell_type": "code",
   "execution_count": 0,
   "metadata": {
    "application/vnd.databricks.v1+cell": {
     "cellMetadata": {},
     "inputWidgets": {},
     "nuid": "c620bacd-1cda-4d2d-b96b-11d8eb03c28d",
     "showTitle": false,
     "tableResultSettingsMap": {},
     "title": ""
    }
   },
   "outputs": [],
   "source": [
    "import dlt"
   ]
  },
  {
   "cell_type": "code",
   "execution_count": 0,
   "metadata": {
    "application/vnd.databricks.v1+cell": {
     "cellMetadata": {},
     "inputWidgets": {},
     "nuid": "df7f09dd-c315-4712-82ad-6e426153909a",
     "showTitle": false,
     "tableResultSettingsMap": {},
     "title": ""
    }
   },
   "outputs": [],
   "source": [
    "\n",
    "@dlt.table(\n",
    "    name=\"nyc_taxi.default.bronze_data\",\n",
    "    comment=\"Bronze Table\",\n",
    "    table_properties={\"quality\": \"bronze\"}\n",
    ")\n",
    "def bronze_table():\n",
    "    return (\n",
    "        spark.readStream.format(\"cloudFiles\")\n",
    "        .option(\"cloudFiles.format\", \"parquet\")\n",
    "        .schema(yellow_taxi_schema)\n",
    "        .load(\"/Volumes/nyc_taxi/nyc_taxi/data/\")\n",
    "    )"
   ]
  },
  {
   "cell_type": "code",
   "execution_count": 0,
   "metadata": {
    "application/vnd.databricks.v1+cell": {
     "cellMetadata": {},
     "inputWidgets": {},
     "nuid": "54649a68-ab38-4240-a971-c5595a1fd432",
     "showTitle": false,
     "tableResultSettingsMap": {},
     "title": ""
    }
   },
   "outputs": [],
   "source": [
    "@dlt.table(\n",
    "    name=\"nyc_taxi.default.silver_data\",\n",
    "    comment=\"Silver Table without null ids\",\n",
    "    table_properties={\"quality\": \"silver\"}\n",
    ")\n",
    "def silver_table():\n",
    "    return (\n",
    "        spark.readStream.table(\"nyc_taxi.default.bronze_data\")\n",
    "        .select(\"*\")\n",
    "        .where(\n",
    "            \"VendorID IS NOT NULL AND tpep_pickup_datetime IS NOT NULL AND tpep_dropoff_datetime IS NOT NULL AND (payment_type IS NULL OR payment_type in (0,1,2,3,4,5,6)) AND year(tpep_pickup_datetime)=2025 AND year(tpep_dropoff_datetime)=2025 AND year(tpep_pickup_datetime)<=year(tpep_dropoff_datetime)\"\n",
    "        )\n",
    "    )"
   ]
  },
  {
   "cell_type": "code",
   "execution_count": 0,
   "metadata": {
    "application/vnd.databricks.v1+cell": {
     "cellMetadata": {},
     "inputWidgets": {},
     "nuid": "6f1501d3-9118-490e-8c17-57a57bae848a",
     "showTitle": false,
     "tableResultSettingsMap": {},
     "title": ""
    }
   },
   "outputs": [],
   "source": [
    "# Materialized View\n",
    "import dlt\n",
    "from pyspark.sql import functions as F\n",
    "\n",
    "@dlt.table(\n",
    "    name=\"nyc_taxi.default.daily_revenue\",\n",
    "    comment=\"Materialized view for daily revenue analytics\",\n",
    "    table_properties={\"quality\": \"gold\"}\n",
    ")\n",
    "def daily_revenue():\n",
    "    return (\n",
    "        dlt.read(\"nyc_taxi.default.silver_data\")\n",
    "        .groupBy(\"VendorID\", F.to_date(\"tpep_pickup_datetime\").alias(\"pickup_date\"))\n",
    "        .agg(\n",
    "            F.sum(\"total_amount\").alias(\"total_revenue\"),\n",
    "            F.avg(\"trip_distance\").alias(\"avg_trip_distance\"),\n",
    "            F.count(\"*\").alias(\"trip_count\"),\n",
    "            F.sum(\"tip_amount\").alias(\"total_tip_amount\")      # New aggregation\n",
    "        )\n",
    "    )\n"
   ]
  }
 ],
 "metadata": {
  "application/vnd.databricks.v1+notebook": {
   "computePreferences": null,
   "dashboards": [],
   "environmentMetadata": {
    "base_environment": "",
    "environment_version": "3"
   },
   "inputWidgetPreferences": null,
   "language": "python",
   "notebookMetadata": {
    "pythonIndentUnit": 4
   },
   "notebookName": "nyc_pipeline_sql",
   "widgets": {}
  },
  "language_info": {
   "name": "python"
  }
 },
 "nbformat": 4,
 "nbformat_minor": 0
}